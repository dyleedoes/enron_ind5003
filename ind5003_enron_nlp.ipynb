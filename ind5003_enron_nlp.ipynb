{
 "cells": [
  {
   "cell_type": "markdown",
   "metadata": {},
   "source": [
    "# IND5003 Enron Project\n",
    "## Contents of this Jupyter Notebook\n",
    "### Dataset\n",
    "Dataset from Prof: \n",
    "(https://www.cs.cmu.edu/~./enron/)\n",
    "- Unstructured Dataset containing raw text in the form of emails\n",
    "**Make sure that the dataset 'maildir' is in the same directory as your project on your own system. Else this would not work**"
   ]
  },
  {
   "cell_type": "markdown",
   "metadata": {},
   "source": [
    "## Approach to this Project\n",
    "\n",
    "### Research Questions\n",
    "(Use research questions to provide a narrative and storyline in our analysis of the Enron Email Corpus)\n",
    "\n",
    "We would be taking a broad to narrow approach in terms of the narrative that we are looking to create. \n",
    "\n",
    "Some research questions that we would be hoping to analyse in this project are:\n",
    "1. Are there any topical shifts that we can identify prior, leading up to and after the fraud has been exposed?\n",
    "2. Can we detect sentiment shifts and anomalies in communication patterns leading up to, during and after the exposure of the fraud?\n",
    "3. Identification of key individuals involved in the key discussions and anomalies in their comms patterns\n",
    "\n",
    "#### Timeline\n",
    "\n",
    "We have an intention to split our analysis into 3 defined timeframes:\n",
    "1. Pre-Crisis (June 1999 - Aug 2001)\n",
    "2. During Crisis (Sep 2000 - Oct 2001)\n",
    "3. Post Crisis (Nov 2001 - June 2002)\n",
    "\n",
    "These research questions would be answered using a variety of NLP and Unsupervised Learning Techniques. \n",
    "\n",
    "*** [GUYS WE NEED TO THINK OF THE TECHNIQUES] ***\n",
    "1. t-sne for initial identification of clusters\n",
    "2. LDA for topic identification\n",
    "3. Named entity recognition for trends in any entity\n",
    "4. Sentimental Analysis\n",
    "5. Anomaly detection (HOW?) \n",
    "6. Information retrieval to identify relevant individuals"
   ]
  },
  {
   "cell_type": "markdown",
   "metadata": {},
   "source": [
    "### Overall Steps to Tackle this Project\n",
    "1. Data Extraction\n",
    "2. Data Cleaning & Preprocessing\n",
    "3. Initial Data Exploration\n",
    "    - Sender Frequency Analysis\n",
    "    - Number of Emails Across Time\n",
    "    - General topic modeling\n",
    "    - General sentiment analysis\n",
    "    - Word Cloud & Bar Charts for the Top Senders (20%)\n",
    "    - Network Graph\n",
    "    - t-sne graph\n",
    "4. Research Questions\n",
    "    1. Temporal Topical shifts using LDA Topic Modeling\n",
    "    2. Temporal Sentimental Analysis - Segment the emails by quarters. Look at the way communication changes over time.\n",
    "    3. Anomaly detection using?\n",
    "    4. Key individual detection using?\n",
    "\n",
    "    "
   ]
  },
  {
   "cell_type": "markdown",
   "metadata": {},
   "source": [
    "## Section 1: Data Extraction\n",
    "- Extract the emails from the unstructured raw folder\n"
   ]
  },
  {
   "cell_type": "code",
   "execution_count": 2,
   "metadata": {},
   "outputs": [],
   "source": [
    "# Import the relevant libraries required for Section 1\n",
    "import os # Required for directory traversal\n",
    "import pandas as pd\n",
    "import email\n",
    "from email import policy\n",
    "from email.parser import BytesParser\n",
    "from collections import defaultdict\n",
    "from itertools import islice\n",
    "\n",
    "# additional libraries added for possible usage\n",
    "import numpy as np\n",
    "import pprint\n",
    "import nltk\n",
    "import re\n",
    "import gensim\n",
    "from gensim.parsing.preprocessing import *\n",
    "import gensim.downloader as api\n",
    "from nltk.stem import PorterStemmer, WordNetLemmatizer\n",
    "from nltk.corpus import wordnet\n",
    "\n",
    "from sklearn.feature_extraction.text import CountVectorizer, TfidfVectorizer\n",
    "from sklearn.metrics.pairwise import cosine_similarity\n",
    "from sklearn import manifold\n",
    "\n",
    "from transformers import pipeline\n",
    "\n",
    "import pyLDAvis\n",
    "import pyLDAvis.gensim_models as gensimvis\n",
    "import matplotlib.pyplot as plt\n",
    "import plotly.express as px\n"
   ]
  },
  {
   "cell_type": "code",
   "execution_count": 126,
   "metadata": {},
   "outputs": [],
   "source": [
    "# # Set the maildir path to the respective paths in your system \n",
    "# # ! Note that maildir should be in the same directory as your project on your own system, would change if you are using windows\n",
    "# maildir_path = '/Users/Dylan/Documents/IND5003/Projects/maildir'"
   ]
  },
  {
   "cell_type": "code",
   "execution_count": 127,
   "metadata": {},
   "outputs": [],
   "source": [
    "# # Create a list of all the directories in the maildir for sanity check\n",
    "# maildir_list = os.listdir(maildir_path)\n",
    "# print(maildir_list)"
   ]
  },
  {
   "cell_type": "code",
   "execution_count": 128,
   "metadata": {},
   "outputs": [],
   "source": [
    "# def parse_email(file_path):\n",
    "#     try:\n",
    "#         with open(file_path, 'rb') as f:\n",
    "#             msg = BytesParser(policy=policy.default).parse(f)\n",
    "        \n",
    "#         # Extract fields from the email\n",
    "#         email_from = msg['From']\n",
    "#         email_to = msg['To']\n",
    "#         email_date = msg['Date']\n",
    "#         email_subject = msg['Subject']\n",
    "#         email_body = msg.get_body(preferencelist=('plain')).get_content() if msg.get_body(preferencelist=('plain')) else ''\n",
    "        \n",
    "#         return [email_from, email_to, email_date, email_subject, email_body]\n",
    "#     except Exception as e:\n",
    "#         print(f\"Error parsing file {file_path}: {e}\")\n",
    "#         return None\n",
    "\n",
    "# def batch_iterator(iterator, batch_size):\n",
    "#     \"\"\"Yield batches of specified size from an iterator.\"\"\"\n",
    "#     while True:\n",
    "#         batch = list(islice(iterator, batch_size))\n",
    "#         if not batch:\n",
    "#             break\n",
    "#         yield batch\n",
    "\n",
    "# def load_emails(maildir_path, batch_size=10, max_emails=50):\n",
    "#     email_data = []\n",
    "#     file_paths = []\n",
    "\n",
    "#     # Walk through the directory to collect file paths\n",
    "#     for root, dirs, files in os.walk(maildir_path):\n",
    "#         for file in files:\n",
    "#             if file == '.DS_Store' or file.startswith('.'):\n",
    "#                 continue  # Skip system files and hidden files\n",
    "#             file_paths.append(os.path.join(root, file))\n",
    "#             if len(file_paths) >= max_emails:\n",
    "#                 break\n",
    "#         if len(file_paths) >= max_emails:\n",
    "#             break\n",
    "\n",
    "#     # Process emails in batches\n",
    "#     for batch in batch_iterator(iter(file_paths), batch_size):\n",
    "#         batch_data = []\n",
    "#         for file_path in batch:\n",
    "#             result = parse_email(file_path)\n",
    "#             if result is not None:\n",
    "#                 batch_data.append(result)\n",
    "        \n",
    "#         # Append batch data to the main list\n",
    "#         email_data.extend(batch_data)\n",
    "\n",
    "#     # Create a DataFrame from the extracted data\n",
    "#     df = pd.DataFrame(email_data, columns=['From', 'To', 'Date', 'Subject', 'Body'])\n",
    "#     return df\n",
    "\n",
    "# # Load and parse emails\n",
    "# emails_df = load_emails(maildir_path, batch_size=10, max_emails=50)\n",
    "\n",
    "# # Display the DataFrame\n",
    "# print(emails_df.head())"
   ]
  },
  {
   "cell_type": "code",
   "execution_count": 129,
   "metadata": {},
   "outputs": [],
   "source": [
    "\n",
    "# # ! This is a very large dataset and will take a long time to run\n",
    "# # ! DO NOT RUN THIS FOR FUN UNLESS YOU WANT YOUR COMPUTER TO CRASH\n",
    "# def parse_email(file_path):\n",
    "#     try:\n",
    "#         with open(file_path, 'rb') as f:\n",
    "#             msg = BytesParser(policy=policy.default).parse(f)\n",
    "        \n",
    "#         # Extract fields from the email\n",
    "#         email_from = msg['From']\n",
    "#         email_to = msg['To']\n",
    "#         email_date = msg['Date']\n",
    "#         email_subject = msg['Subject']\n",
    "#         email_body = msg.get_body(preferencelist=('plain')).get_content() if msg.get_body(preferencelist=('plain')) else ''\n",
    "        \n",
    "#         return [email_from, email_to, email_date, email_subject, email_body]\n",
    "#     except Exception as e:\n",
    "#         print(f\"Error parsing file {file_path}: {e}\")\n",
    "#         return None\n",
    "\n",
    "# def batch_iterator(iterator, batch_size):\n",
    "#     \"\"\"Yield batches of specified size from an iterator.\"\"\"\n",
    "#     while True:\n",
    "#         batch = list(islice(iterator, batch_size))\n",
    "#         if not batch:\n",
    "#             break\n",
    "#         yield batch\n",
    "\n",
    "# def load_emails(maildir_path, batch_size=1000):\n",
    "#     email_data = []\n",
    "#     file_paths = []\n",
    "\n",
    "#     # Walk through the directory to collect file paths\n",
    "#     for root, dirs, files in os.walk(maildir_path):\n",
    "#         for file in files:\n",
    "#             if file == '.DS_Store' or file.startswith('.'):\n",
    "#                 continue  # Skip system files and hidden files\n",
    "#             file_paths.append(os.path.join(root, file))\n",
    "\n",
    "#     # Process emails in batches\n",
    "#     for batch in batch_iterator(iter(file_paths), batch_size):\n",
    "#         batch_data = []\n",
    "#         for file_path in batch:\n",
    "#             result = parse_email(file_path)\n",
    "#             if result is not None:\n",
    "#                 batch_data.append(result)\n",
    "        \n",
    "#         # Append batch data to the main list\n",
    "#         email_data.extend(batch_data)\n",
    "\n",
    "#     # Create a DataFrame from the extracted data\n",
    "#     df = pd.DataFrame(email_data, columns=['From', 'To', 'Date', 'Subject', 'Body'])\n",
    "#     return df\n",
    "\n",
    "# # Load and parse emails\n",
    "# emails_df = load_emails(maildir_path, batch_size=1000)\n",
    "\n",
    "# # Display the DataFrame\n",
    "# print(emails_df.head())"
   ]
  },
  {
   "cell_type": "markdown",
   "metadata": {},
   "source": [
    "### Loading the Data into a Pandas DF"
   ]
  },
  {
   "cell_type": "code",
   "execution_count": 130,
   "metadata": {},
   "outputs": [],
   "source": [
    "# Convert emails_df to a CSV file\n",
    "# Save the DataFrame as a CSV file in the specified directory\n",
    "\n",
    "#emails_df.to_csv('/Users/Dylan/Documents/IND5003/Projects/emails_uncleaned.csv', index=False)\n"
   ]
  },
  {
   "cell_type": "code",
   "execution_count": 8,
   "metadata": {},
   "outputs": [],
   "source": [
    "# Load the CSV file back into a DataFrame\n",
    "\n",
    "# PLEASE CHANGE IT TO YOUR OWN DIRECTORY IN YOUR OWN SYSTEM \n",
    "\n",
    "# Load the CSV file back into a DataFrame\n",
    "\n",
    "# PLEASE CHANGE IT TO YOUR OWN DIRECTORY IN YOUR OWN SYSTEM \n",
    "\n",
    "enron_uncleaned_emails = pd.read_csv('../data/enron_emails_uncleaned.csv')"
   ]
  },
  {
   "cell_type": "code",
   "execution_count": 9,
   "metadata": {},
   "outputs": [
    {
     "data": {
      "text/html": [
       "<div>\n",
       "<style scoped>\n",
       "    .dataframe tbody tr th:only-of-type {\n",
       "        vertical-align: middle;\n",
       "    }\n",
       "\n",
       "    .dataframe tbody tr th {\n",
       "        vertical-align: top;\n",
       "    }\n",
       "\n",
       "    .dataframe thead th {\n",
       "        text-align: right;\n",
       "    }\n",
       "</style>\n",
       "<table border=\"1\" class=\"dataframe\">\n",
       "  <thead>\n",
       "    <tr style=\"text-align: right;\">\n",
       "      <th></th>\n",
       "      <th>From</th>\n",
       "      <th>To</th>\n",
       "      <th>Date</th>\n",
       "      <th>Subject</th>\n",
       "      <th>Body</th>\n",
       "    </tr>\n",
       "  </thead>\n",
       "  <tbody>\n",
       "    <tr>\n",
       "      <th>0</th>\n",
       "      <td>msagel@home.com</td>\n",
       "      <td>jarnold@enron.com</td>\n",
       "      <td>Thu, 16 Nov 2000 09:30:00 -0800</td>\n",
       "      <td>Status</td>\n",
       "      <td>John:\\n?\\nI'm not really sure what happened be...</td>\n",
       "    </tr>\n",
       "    <tr>\n",
       "      <th>1</th>\n",
       "      <td>slafontaine@globalp.com</td>\n",
       "      <td>john.arnold@enron.com</td>\n",
       "      <td>Fri, 08 Dec 2000 05:05:00 -0800</td>\n",
       "      <td>re:summer inverses</td>\n",
       "      <td>i suck-hope youve made more money in natgas la...</td>\n",
       "    </tr>\n",
       "    <tr>\n",
       "      <th>2</th>\n",
       "      <td>iceoperations@intcx.com</td>\n",
       "      <td>icehelpdesk@intcx.com, internalmarketing@intcx...</td>\n",
       "      <td>Tue, 15 May 2001 09:43:00 -0700</td>\n",
       "      <td>The WTI Bullet swap contracts</td>\n",
       "      <td>Hi,\\n\\n\\n  Following the e-mail you have rece...</td>\n",
       "    </tr>\n",
       "    <tr>\n",
       "      <th>3</th>\n",
       "      <td>jeff.youngflesh@enron.com</td>\n",
       "      <td>anthony.gilmore@enron.com, colleen.koenig@enro...</td>\n",
       "      <td>Mon, 27 Nov 2000 01:49:00 -0800</td>\n",
       "      <td>Invitation: EBS/GSS Meeting w/Bristol Babcock ...</td>\n",
       "      <td>Conference Room TBD.  \\n\\nThis meeting will be...</td>\n",
       "    </tr>\n",
       "    <tr>\n",
       "      <th>4</th>\n",
       "      <td>caroline.abramo@enron.com</td>\n",
       "      <td>mike.grigsby@enron.com</td>\n",
       "      <td>Tue, 12 Dec 2000 09:33:00 -0800</td>\n",
       "      <td>Harvard Mgmt</td>\n",
       "      <td>Mike- I have their trader coming into the offi...</td>\n",
       "    </tr>\n",
       "  </tbody>\n",
       "</table>\n",
       "</div>"
      ],
      "text/plain": [
       "                        From  \\\n",
       "0            msagel@home.com   \n",
       "1    slafontaine@globalp.com   \n",
       "2    iceoperations@intcx.com   \n",
       "3  jeff.youngflesh@enron.com   \n",
       "4  caroline.abramo@enron.com   \n",
       "\n",
       "                                                  To  \\\n",
       "0                                  jarnold@enron.com   \n",
       "1                              john.arnold@enron.com   \n",
       "2  icehelpdesk@intcx.com, internalmarketing@intcx...   \n",
       "3  anthony.gilmore@enron.com, colleen.koenig@enro...   \n",
       "4                             mike.grigsby@enron.com   \n",
       "\n",
       "                              Date  \\\n",
       "0  Thu, 16 Nov 2000 09:30:00 -0800   \n",
       "1  Fri, 08 Dec 2000 05:05:00 -0800   \n",
       "2  Tue, 15 May 2001 09:43:00 -0700   \n",
       "3  Mon, 27 Nov 2000 01:49:00 -0800   \n",
       "4  Tue, 12 Dec 2000 09:33:00 -0800   \n",
       "\n",
       "                                             Subject  \\\n",
       "0                                             Status   \n",
       "1                                 re:summer inverses   \n",
       "2                      The WTI Bullet swap contracts   \n",
       "3  Invitation: EBS/GSS Meeting w/Bristol Babcock ...   \n",
       "4                                       Harvard Mgmt   \n",
       "\n",
       "                                                Body  \n",
       "0  John:\\n?\\nI'm not really sure what happened be...  \n",
       "1  i suck-hope youve made more money in natgas la...  \n",
       "2   Hi,\\n\\n\\n  Following the e-mail you have rece...  \n",
       "3  Conference Room TBD.  \\n\\nThis meeting will be...  \n",
       "4  Mike- I have their trader coming into the offi...  "
      ]
     },
     "execution_count": 9,
     "metadata": {},
     "output_type": "execute_result"
    }
   ],
   "source": [
    "enron_uncleaned_emails.head()"
   ]
  },
  {
   "cell_type": "code",
   "execution_count": 10,
   "metadata": {},
   "outputs": [],
   "source": [
    "# # Find \"kitchen\" in the column \"From\"\n",
    "\n",
    "# # This is to determine that there are still emails sent from louise kitchen despite the original parsing error due to the encoding of the email\n",
    "# kitchen_emails = enron_uncleaned_emails[enron_uncleaned_emails['From'].str.contains('kitchen', case=False, na=False)]\n",
    "# print(kitchen_emails)"
   ]
  },
  {
   "cell_type": "markdown",
   "metadata": {},
   "source": [
    "## Section 2: Data Preprocessing\n",
    "### Start with the Cleaning\n",
    "* Check for any nulls\n",
    "* Drop the missing values\n",
    "* Remove the duplicates\n",
    "* Format the dates \n",
    "\n"
   ]
  },
  {
   "cell_type": "code",
   "execution_count": 11,
   "metadata": {},
   "outputs": [
    {
     "name": "stdout",
     "output_type": "stream",
     "text": [
      "    Column  Missing Values\n",
      "0     From               0\n",
      "1       To           21847\n",
      "2     Date               0\n",
      "3  Subject           19187\n",
      "4     Body               0\n"
     ]
    }
   ],
   "source": [
    "# Check for Nulls in Each Column\n",
    "missing_values = enron_uncleaned_emails.isnull().sum()\n",
    "missing_values_df = pd.DataFrame({'Column': missing_values.index, 'Missing Values': missing_values.values})\n",
    "print(missing_values_df)"
   ]
  },
  {
   "cell_type": "code",
   "execution_count": 12,
   "metadata": {},
   "outputs": [
    {
     "data": {
      "text/html": [
       "<div>\n",
       "<style scoped>\n",
       "    .dataframe tbody tr th:only-of-type {\n",
       "        vertical-align: middle;\n",
       "    }\n",
       "\n",
       "    .dataframe tbody tr th {\n",
       "        vertical-align: top;\n",
       "    }\n",
       "\n",
       "    .dataframe thead th {\n",
       "        text-align: right;\n",
       "    }\n",
       "</style>\n",
       "<table border=\"1\" class=\"dataframe\">\n",
       "  <thead>\n",
       "    <tr style=\"text-align: right;\">\n",
       "      <th></th>\n",
       "      <th>From</th>\n",
       "      <th>To</th>\n",
       "      <th>Date</th>\n",
       "      <th>Subject</th>\n",
       "      <th>Body</th>\n",
       "    </tr>\n",
       "  </thead>\n",
       "  <tbody>\n",
       "    <tr>\n",
       "      <th>count</th>\n",
       "      <td>517396</td>\n",
       "      <td>495549</td>\n",
       "      <td>517396</td>\n",
       "      <td>498209</td>\n",
       "      <td>517396</td>\n",
       "    </tr>\n",
       "    <tr>\n",
       "      <th>unique</th>\n",
       "      <td>20326</td>\n",
       "      <td>58556</td>\n",
       "      <td>224119</td>\n",
       "      <td>159286</td>\n",
       "      <td>249020</td>\n",
       "    </tr>\n",
       "    <tr>\n",
       "      <th>top</th>\n",
       "      <td>kay.mann@enron.com</td>\n",
       "      <td>pete.davis@enron.com</td>\n",
       "      <td>Wed, 27 Jun 2001 16:02:00 -0700</td>\n",
       "      <td>RE:</td>\n",
       "      <td>As you know, Enron Net Works (ENW) and Enron G...</td>\n",
       "    </tr>\n",
       "    <tr>\n",
       "      <th>freq</th>\n",
       "      <td>16735</td>\n",
       "      <td>9155</td>\n",
       "      <td>1118</td>\n",
       "      <td>6477</td>\n",
       "      <td>112</td>\n",
       "    </tr>\n",
       "  </tbody>\n",
       "</table>\n",
       "</div>"
      ],
      "text/plain": [
       "                      From                    To  \\\n",
       "count               517396                495549   \n",
       "unique               20326                 58556   \n",
       "top     kay.mann@enron.com  pete.davis@enron.com   \n",
       "freq                 16735                  9155   \n",
       "\n",
       "                                   Date Subject  \\\n",
       "count                            517396  498209   \n",
       "unique                           224119  159286   \n",
       "top     Wed, 27 Jun 2001 16:02:00 -0700     RE:   \n",
       "freq                               1118    6477   \n",
       "\n",
       "                                                     Body  \n",
       "count                                              517396  \n",
       "unique                                             249020  \n",
       "top     As you know, Enron Net Works (ENW) and Enron G...  \n",
       "freq                                                  112  "
      ]
     },
     "execution_count": 12,
     "metadata": {},
     "output_type": "execute_result"
    }
   ],
   "source": [
    "# Description of the DataFrame\n",
    "enron_uncleaned_emails.describe()"
   ]
  },
  {
   "cell_type": "code",
   "execution_count": 13,
   "metadata": {},
   "outputs": [],
   "source": [
    "# Fill out the missing values with empty strings\n",
    "enron_cleaned_emails = enron_uncleaned_emails.fillna('')"
   ]
  },
  {
   "cell_type": "code",
   "execution_count": 14,
   "metadata": {},
   "outputs": [
    {
     "name": "stdout",
     "output_type": "stream",
     "text": [
      "    Column  Missing Values\n",
      "0     From               0\n",
      "1       To               0\n",
      "2     Date               0\n",
      "3  Subject               0\n",
      "4     Body               0\n"
     ]
    }
   ],
   "source": [
    "# Post cleaning Check\n",
    "missing_values_check = enron_cleaned_emails.isnull().sum()\n",
    "missing_values_df_check = pd.DataFrame({'Column': missing_values_check.index, 'Missing Values': missing_values_check.values})\n",
    "print(missing_values_df_check)"
   ]
  },
  {
   "cell_type": "code",
   "execution_count": 15,
   "metadata": {},
   "outputs": [
    {
     "data": {
      "text/html": [
       "<div>\n",
       "<style scoped>\n",
       "    .dataframe tbody tr th:only-of-type {\n",
       "        vertical-align: middle;\n",
       "    }\n",
       "\n",
       "    .dataframe tbody tr th {\n",
       "        vertical-align: top;\n",
       "    }\n",
       "\n",
       "    .dataframe thead th {\n",
       "        text-align: right;\n",
       "    }\n",
       "</style>\n",
       "<table border=\"1\" class=\"dataframe\">\n",
       "  <thead>\n",
       "    <tr style=\"text-align: right;\">\n",
       "      <th></th>\n",
       "      <th>From</th>\n",
       "      <th>To</th>\n",
       "      <th>Date</th>\n",
       "      <th>Subject</th>\n",
       "      <th>Body</th>\n",
       "    </tr>\n",
       "  </thead>\n",
       "  <tbody>\n",
       "    <tr>\n",
       "      <th>count</th>\n",
       "      <td>517396</td>\n",
       "      <td>517396</td>\n",
       "      <td>517396</td>\n",
       "      <td>517396</td>\n",
       "      <td>517396</td>\n",
       "    </tr>\n",
       "    <tr>\n",
       "      <th>unique</th>\n",
       "      <td>20326</td>\n",
       "      <td>58557</td>\n",
       "      <td>224119</td>\n",
       "      <td>159287</td>\n",
       "      <td>249020</td>\n",
       "    </tr>\n",
       "    <tr>\n",
       "      <th>top</th>\n",
       "      <td>kay.mann@enron.com</td>\n",
       "      <td></td>\n",
       "      <td>Wed, 27 Jun 2001 16:02:00 -0700</td>\n",
       "      <td></td>\n",
       "      <td>As you know, Enron Net Works (ENW) and Enron G...</td>\n",
       "    </tr>\n",
       "    <tr>\n",
       "      <th>freq</th>\n",
       "      <td>16735</td>\n",
       "      <td>21847</td>\n",
       "      <td>1118</td>\n",
       "      <td>19187</td>\n",
       "      <td>112</td>\n",
       "    </tr>\n",
       "  </tbody>\n",
       "</table>\n",
       "</div>"
      ],
      "text/plain": [
       "                      From      To                             Date Subject  \\\n",
       "count               517396  517396                           517396  517396   \n",
       "unique               20326   58557                           224119  159287   \n",
       "top     kay.mann@enron.com          Wed, 27 Jun 2001 16:02:00 -0700           \n",
       "freq                 16735   21847                             1118   19187   \n",
       "\n",
       "                                                     Body  \n",
       "count                                              517396  \n",
       "unique                                             249020  \n",
       "top     As you know, Enron Net Works (ENW) and Enron G...  \n",
       "freq                                                  112  "
      ]
     },
     "execution_count": 15,
     "metadata": {},
     "output_type": "execute_result"
    }
   ],
   "source": [
    "# Describe the cleaned DataFrame\n",
    "enron_cleaned_emails.describe()"
   ]
  },
  {
   "cell_type": "markdown",
   "metadata": {},
   "source": [
    "* From running the code above, the output would show that there are 249020 emails with unique bodies out of the 517396 emails. \n",
    "    * This means that ~51.9% of emails in the uncleaned dataframe are not unique\n",
    "    * This would ensure that the subsequent analytical metrics (when performing LDA, TFIDF, Word2vec) are not inflated. "
   ]
  },
  {
   "cell_type": "code",
   "execution_count": 16,
   "metadata": {},
   "outputs": [
    {
     "data": {
      "text/html": [
       "<div>\n",
       "<style scoped>\n",
       "    .dataframe tbody tr th:only-of-type {\n",
       "        vertical-align: middle;\n",
       "    }\n",
       "\n",
       "    .dataframe tbody tr th {\n",
       "        vertical-align: top;\n",
       "    }\n",
       "\n",
       "    .dataframe thead th {\n",
       "        text-align: right;\n",
       "    }\n",
       "</style>\n",
       "<table border=\"1\" class=\"dataframe\">\n",
       "  <thead>\n",
       "    <tr style=\"text-align: right;\">\n",
       "      <th></th>\n",
       "      <th>From</th>\n",
       "      <th>To</th>\n",
       "      <th>Date</th>\n",
       "      <th>Subject</th>\n",
       "      <th>Body</th>\n",
       "    </tr>\n",
       "  </thead>\n",
       "  <tbody>\n",
       "    <tr>\n",
       "      <th>count</th>\n",
       "      <td>255488</td>\n",
       "      <td>255488</td>\n",
       "      <td>255488</td>\n",
       "      <td>255488</td>\n",
       "      <td>255488</td>\n",
       "    </tr>\n",
       "    <tr>\n",
       "      <th>unique</th>\n",
       "      <td>20326</td>\n",
       "      <td>58557</td>\n",
       "      <td>224119</td>\n",
       "      <td>159287</td>\n",
       "      <td>249020</td>\n",
       "    </tr>\n",
       "    <tr>\n",
       "      <th>top</th>\n",
       "      <td>jeff.dasovich@enron.com</td>\n",
       "      <td></td>\n",
       "      <td>Wed, 27 Jun 2001 16:02:00 -0700</td>\n",
       "      <td></td>\n",
       "      <td>test</td>\n",
       "    </tr>\n",
       "    <tr>\n",
       "      <th>freq</th>\n",
       "      <td>5530</td>\n",
       "      <td>9989</td>\n",
       "      <td>1118</td>\n",
       "      <td>8766</td>\n",
       "      <td>40</td>\n",
       "    </tr>\n",
       "  </tbody>\n",
       "</table>\n",
       "</div>"
      ],
      "text/plain": [
       "                           From      To                             Date  \\\n",
       "count                    255488  255488                           255488   \n",
       "unique                    20326   58557                           224119   \n",
       "top     jeff.dasovich@enron.com          Wed, 27 Jun 2001 16:02:00 -0700   \n",
       "freq                       5530    9989                             1118   \n",
       "\n",
       "       Subject    Body  \n",
       "count   255488  255488  \n",
       "unique  159287  249020  \n",
       "top               test  \n",
       "freq      8766      40  "
      ]
     },
     "execution_count": 16,
     "metadata": {},
     "output_type": "execute_result"
    }
   ],
   "source": [
    "# Remove duplicate emails based on the 'Body' column, keeping only the first occurrence\n",
    "enron_cleaned_emails_body_unique = enron_cleaned_emails.drop_duplicates(keep='first')\n",
    "# Describe the DataFrame after removing duplicates\n",
    "enron_cleaned_emails_body_unique.describe()"
   ]
  },
  {
   "cell_type": "code",
   "execution_count": 17,
   "metadata": {},
   "outputs": [],
   "source": [
    "# # When running the code block above, i observed that jeff dasovich sent the most emails. \n",
    "# # Now i want to explore the number of emails he sent\n",
    "# # Filter emails where 'From' is 'jeff.dasovich@enron.com'\n",
    "# jeff_emails = enron_cleaned_emails_body_unique[enron_cleaned_emails_body_unique['From'] == 'jeff.dasovich@enron.com']\n",
    "\n",
    "# # Count the number of emails he sent\n",
    "# jeff_emails_count = jeff_emails.shape[0]\n",
    "\n",
    "# # Display the count\n",
    "# print(f\"Jeff Dasovich sent {jeff_emails_count} emails.\")\n",
    "\n",
    "# # Display the first few rows of Jeff's emails\n",
    "# jeff_emails.head()\n"
   ]
  },
  {
   "cell_type": "code",
   "execution_count": 18,
   "metadata": {},
   "outputs": [
    {
     "name": "stderr",
     "output_type": "stream",
     "text": [
      "C:\\Users\\halim\\AppData\\Local\\Temp\\ipykernel_20192\\2504716352.py:2: SettingWithCopyWarning: \n",
      "A value is trying to be set on a copy of a slice from a DataFrame.\n",
      "Try using .loc[row_indexer,col_indexer] = value instead\n",
      "\n",
      "See the caveats in the documentation: https://pandas.pydata.org/pandas-docs/stable/user_guide/indexing.html#returning-a-view-versus-a-copy\n",
      "  enron_cleaned_emails_body_unique['Date'] = pd.to_datetime(enron_cleaned_emails_body_unique['Date'], errors='coerce', utc=True)\n"
     ]
    },
    {
     "name": "stdout",
     "output_type": "stream",
     "text": [
      "From                    object\n",
      "To                      object\n",
      "Date       datetime64[ns, UTC]\n",
      "Subject                 object\n",
      "Body                    object\n",
      "dtype: object\n"
     ]
    }
   ],
   "source": [
    "# Convert the Date column to a pandas datetime object in the deduplicated dataframe\n",
    "enron_cleaned_emails_body_unique['Date'] = pd.to_datetime(enron_cleaned_emails_body_unique['Date'], errors='coerce', utc=True)\n",
    "\n",
    "# Print the types of each column to ensure that the Date column is now a datetime object\n",
    "print(enron_cleaned_emails_body_unique.dtypes)"
   ]
  },
  {
   "cell_type": "code",
   "execution_count": 19,
   "metadata": {},
   "outputs": [
    {
     "name": "stderr",
     "output_type": "stream",
     "text": [
      "C:\\Users\\halim\\AppData\\Local\\Temp\\ipykernel_20192\\529211872.py:2: SettingWithCopyWarning: \n",
      "A value is trying to be set on a copy of a slice from a DataFrame.\n",
      "Try using .loc[row_indexer,col_indexer] = value instead\n",
      "\n",
      "See the caveats in the documentation: https://pandas.pydata.org/pandas-docs/stable/user_guide/indexing.html#returning-a-view-versus-a-copy\n",
      "  enron_cleaned_emails_body_unique['Year'] = enron_cleaned_emails_body_unique['Date'].dt.year\n",
      "C:\\Users\\halim\\AppData\\Local\\Temp\\ipykernel_20192\\529211872.py:5: SettingWithCopyWarning: \n",
      "A value is trying to be set on a copy of a slice from a DataFrame.\n",
      "Try using .loc[row_indexer,col_indexer] = value instead\n",
      "\n",
      "See the caveats in the documentation: https://pandas.pydata.org/pandas-docs/stable/user_guide/indexing.html#returning-a-view-versus-a-copy\n",
      "  enron_cleaned_emails_body_unique['Year'] = enron_cleaned_emails_body_unique['Year'].astype('Int64')\n"
     ]
    },
    {
     "name": "stdout",
     "output_type": "stream",
     "text": [
      "    Year  Emails\n",
      "0   1980     292\n",
      "1   1986       2\n",
      "2   1997     112\n",
      "3   1998      90\n",
      "4   1999    4909\n",
      "5   2000   65982\n",
      "6   2001  154653\n",
      "7   2002   29371\n",
      "8   2004      66\n",
      "9   2005       1\n",
      "10  2007       1\n",
      "11  2012       2\n",
      "12  2020       2\n",
      "13  2024       1\n",
      "14  2043       1\n",
      "15  2044       3\n"
     ]
    }
   ],
   "source": [
    "# Extract the 'Year' from the 'Date' column\n",
    "enron_cleaned_emails_body_unique['Year'] = enron_cleaned_emails_body_unique['Date'].dt.year\n",
    "\n",
    "# Convert the 'Year' column to an integer type if necessary\n",
    "enron_cleaned_emails_body_unique['Year'] = enron_cleaned_emails_body_unique['Year'].astype('Int64')\n",
    "\n",
    "# Count the number of emails sent per year and sort the index (years)\n",
    "emails_per_year = enron_cleaned_emails_body_unique['Year'].value_counts().sort_index()\n",
    "\n",
    "# Create a DataFrame to hold the year and the number of emails\n",
    "emails_per_year_df = pd.DataFrame({'Year': emails_per_year.index, 'Emails': emails_per_year.values})\n",
    "\n",
    "# Print the resulting DataFrame\n",
    "print(emails_per_year_df)"
   ]
  },
  {
   "cell_type": "code",
   "execution_count": 20,
   "metadata": {},
   "outputs": [
    {
     "name": "stderr",
     "output_type": "stream",
     "text": [
      "C:\\Users\\halim\\AppData\\Local\\Temp\\ipykernel_20192\\703201955.py:2: SettingWithCopyWarning: \n",
      "A value is trying to be set on a copy of a slice from a DataFrame.\n",
      "Try using .loc[row_indexer,col_indexer] = value instead\n",
      "\n",
      "See the caveats in the documentation: https://pandas.pydata.org/pandas-docs/stable/user_guide/indexing.html#returning-a-view-versus-a-copy\n",
      "  enron_cleaned_emails_body_unique['Month'] = enron_cleaned_emails_body_unique['Date'].dt.month.astype('Int64')\n"
     ]
    },
    {
     "name": "stdout",
     "output_type": "stream",
     "text": [
      "Year  Month\n",
      "1980  1        292\n",
      "1986  4          1\n",
      "      5          1\n",
      "1997  1          1\n",
      "      3         10\n",
      "              ... \n",
      "2012  11         2\n",
      "2020  12         2\n",
      "2024  5          1\n",
      "2043  12         1\n",
      "2044  1          3\n",
      "Name: From, Length: 73, dtype: int64\n"
     ]
    }
   ],
   "source": [
    "# Create another column with the months of each row using the deduplicated dataframe\n",
    "enron_cleaned_emails_body_unique['Month'] = enron_cleaned_emails_body_unique['Date'].dt.month.astype('Int64')\n",
    "\n",
    "# Group the dataframe by Year and Month and count the number of emails (using 'From' as the count reference)\n",
    "emails_per_month_year = enron_cleaned_emails_body_unique.groupby(['Year', 'Month']).count()['From']\n",
    "\n",
    "# Print the resulting grouped data\n",
    "print(emails_per_month_year)\n"
   ]
  },
  {
   "cell_type": "code",
   "execution_count": 21,
   "metadata": {},
   "outputs": [
    {
     "data": {
      "text/plain": [
       "Month\n",
       "1     17154\n",
       "2      6756\n",
       "3      2930\n",
       "4       954\n",
       "5       748\n",
       "6       745\n",
       "7        76\n",
       "9         6\n",
       "10        1\n",
       "12        1\n",
       "Name: From, dtype: int64"
      ]
     },
     "execution_count": 21,
     "metadata": {},
     "output_type": "execute_result"
    }
   ],
   "source": [
    "# Check the number of emails in 2002 divided by month\n",
    "emails_per_month_year[2002]"
   ]
  },
  {
   "cell_type": "code",
   "execution_count": 22,
   "metadata": {},
   "outputs": [
    {
     "data": {
      "image/png": "[encoded data removed]",
      "text/plain": [
       "<Figure size 1000x500 with 1 Axes>"
      ]
     },
     "metadata": {},
     "output_type": "display_data"
    }
   ],
   "source": [
    "# Create large plot size\n",
    "plt.figure(figsize=(10, 5))\n",
    "emails_per_month_year.plot()\n",
    "# Add tick marks in the x axis for every 3 months\n",
    "plt.xticks(np.arange(0, len(emails_per_month_year), step=3), rotation=45,\n",
    "           labels=[f\"{year}-{month}\" for year, month in emails_per_month_year.index][::3])\n",
    "plt.ylabel('Number of Emails')\n",
    "plt.title('Number of Emails Sent Over Time')\n",
    "plt.grid()\n",
    "plt.show()"
   ]
  },
  {
   "cell_type": "code",
   "execution_count": 23,
   "metadata": {},
   "outputs": [
    {
     "name": "stderr",
     "output_type": "stream",
     "text": [
      "[nltk_data] Downloading package wordnet to\n",
      "[nltk_data]     C:\\Users\\halim\\AppData\\Roaming\\nltk_data...\n",
      "[nltk_data]   Package wordnet is already up-to-date!\n",
      "[nltk_data] Downloading package averaged_perceptron_tagger to\n",
      "[nltk_data]     C:\\Users\\halim\\AppData\\Roaming\\nltk_data...\n",
      "[nltk_data]   Package averaged_perceptron_tagger is already up-to-\n",
      "[nltk_data]       date!\n"
     ]
    }
   ],
   "source": [
    "import ssl\n",
    "import certifi\n",
    "ssl._create_default_https_context = ssl._create_unverified_context\n",
    "\n",
    "# Download necessary datasets\n",
    "nltk.download('wordnet')\n",
    "nltk.download('averaged_perceptron_tagger')\n",
    "\n",
    "# Initialize the lemmatizer\n",
    "wn = WordNetLemmatizer()\n",
    "\n",
    "# Function to map NLTK's POS tags to WordNet POS tags\n",
    "def get_wordnet_pos(word):\n",
    "    \"\"\"Get POS tag for lemmatization from NLTK's tag\"\"\"\n",
    "    tag = nltk.pos_tag([word])[0][1][0].upper()\n",
    "    tag_dict = {\"J\": wordnet.ADJ,  # Adjective\n",
    "                \"N\": wordnet.NOUN, # Noun\n",
    "                \"V\": wordnet.VERB, # Verb\n",
    "                \"R\": wordnet.ADV}  # Adverb\n",
    "    return tag_dict.get(tag, wordnet.NOUN)  # Default to noun if the tag is not found\n"
   ]
  },
  {
   "cell_type": "code",
   "execution_count": 24,
   "metadata": {},
   "outputs": [],
   "source": [
    "# Define function for cleaning and preprocessing the emails\n",
    "def clean_the_mails(text):\n",
    "    # Convert all the text to lowercase\n",
    "    text = text.lower()\n",
    "    \n",
    "    # Remove all the special characters, numbers, and punctuation\n",
    "    text = re.sub(r'[^a-z\\s]', '', text)\n",
    "    \n",
    "    # Tokenize the text into words\n",
    "    tokens = text.split()\n",
    "    \n",
    "    # Apply POS tagging and lemmatize each word\n",
    "    tokens = [wn.lemmatize(word, get_wordnet_pos(word)) for word in tokens]\n",
    "    \n",
    "    # Rejoin the tokens into a single string\n",
    "    return tokens\n"
   ]
  },
  {
   "cell_type": "code",
   "execution_count": 25,
   "metadata": {},
   "outputs": [
    {
     "name": "stdout",
     "output_type": "stream",
     "text": [
      "Original text: This Lou pai loves strippers as side quest to helping Jeff Skiling.\n",
      "Cleaned and lemmatized text: ['this', 'lou', 'pai', 'love', 'stripper', 'a', 'side', 'quest', 'to', 'help', 'jeff', 'skiling']\n"
     ]
    }
   ],
   "source": [
    "# Example sentence to clean and lemmatize\n",
    "example_text = \"This Lou pai loves strippers as side quest to helping Jeff Skiling.\"\n",
    "\n",
    "# Clean and lemmatize the text\n",
    "cleaned_text = clean_the_mails(example_text)\n",
    "\n",
    "print(\"Original text:\", example_text)\n",
    "print(\"Cleaned and lemmatized text:\", cleaned_text)\n"
   ]
  },
  {
   "cell_type": "code",
   "execution_count": 26,
   "metadata": {},
   "outputs": [],
   "source": [
    "# # Applying the clean mail function to the Body column and import to csv for future usage\n",
    "\n",
    "# # Apply the clean_the_mails function to the 'Body' column of your email dataset\n",
    "# enron_cleaned_emails_body_unique['Cleaned_Body'] = enron_cleaned_emails_body_unique['Body'].apply(clean_the_mails)\n",
    "\n",
    "# # Save the DataFrame with the cleaned data to a CSV file for future use\n",
    "# enron_cleaned_emails_body_unique.to_csv('enron_cleaned_emails_with_cleaned_body.csv', index=False)\n",
    "\n",
    "# # Display the first few rows of the DataFrame to inspect the cleaned and lemmatized results\n",
    "# enron_cleaned_emails_body_unique[['Body', 'Cleaned_Body']].head()"
   ]
  },
  {
   "cell_type": "markdown",
   "metadata": {},
   "source": [
    "## Splitting into Different Time Frames"
   ]
  },
  {
   "cell_type": "code",
   "execution_count": 3,
   "metadata": {},
   "outputs": [],
   "source": [
    "# Import the cleaned data from the CSV file\n",
    "enron_corpus = pd.read_csv('../data/enron_cleaned_emails_with_cleaned_body.csv')"
   ]
  },
  {
   "cell_type": "code",
   "execution_count": 4,
   "metadata": {},
   "outputs": [
    {
     "name": "stdout",
     "output_type": "stream",
     "text": [
      "From                         object\n",
      "To                           object\n",
      "Date            datetime64[ns, UTC]\n",
      "Subject                      object\n",
      "Body                         object\n",
      "Year                          int64\n",
      "Month                         int64\n",
      "Cleaned_Body                 object\n",
      "dtype: object\n"
     ]
    }
   ],
   "source": [
    "# Change enron corpus dataframe Date column to datetime object\n",
    "enron_corpus['Date'] = pd.to_datetime(enron_corpus['Date'], errors='coerce', utc=True)\n",
    "\n",
    "# Print dtypes of enron corpus dataframe\n",
    "print(enron_corpus.dtypes)"
   ]
  },
  {
   "cell_type": "code",
   "execution_count": 5,
   "metadata": {},
   "outputs": [
    {
     "name": "stdout",
     "output_type": "stream",
     "text": [
      "(33981, 8)\n",
      "(157792, 8)\n",
      "(61382, 8)\n"
     ]
    }
   ],
   "source": [
    "# Divide the enron_corpus into 3 dataframes\n",
    "\n",
    "# The first dataframe for dates between June 1999 and August 2000 (Pre-crisis)\n",
    "enron_pre_crisis = enron_corpus[(enron_corpus['Date'] >= '1999-06-01') & (enron_corpus['Date'] <= '2000-08-31')]\n",
    "\n",
    "# The second dataframe for dates between Sep 2000 to Oct 2001 (During crisis)\n",
    "enron_during_crisis = enron_corpus[(enron_corpus['Date'] >= '2000-09-01') & (enron_corpus['Date'] <= '2001-10-31')]\n",
    "\n",
    "# The third dataframe for dates between November 2001 to June 2002 (Post-crisis)\n",
    "enron_post_crisis = enron_corpus[(enron_corpus['Date'] >= '2001-11-01') & (enron_corpus['Date'] <= '2002-06-30')]\n",
    "\n",
    "# Print the shape of each dataframe\n",
    "print(enron_pre_crisis.shape)\n",
    "print(enron_during_crisis.shape)\n",
    "print(enron_post_crisis.shape)\n"
   ]
  },
  {
   "cell_type": "markdown",
   "metadata": {},
   "source": [
    "# Q1 Topic Identification Across Time\n",
    "\n",
    "Use LDA to find the most common topics across time under each of the pre-processed corpus under each period (pre, during, post crisis)"
   ]
  },
  {
   "cell_type": "code",
   "execution_count": 6,
   "metadata": {},
   "outputs": [],
   "source": [
    "# Create custome filter for the tokenization\n",
    "CUSTOM_FILTER = [lambda x: x.lower(), strip_punctuation, \n",
    "                 strip_multiple_whitespaces, strip_numeric,\n",
    "                 strip_short]"
   ]
  },
  {
   "cell_type": "code",
   "execution_count": 7,
   "metadata": {},
   "outputs": [],
   "source": [
    "# Tokenize the corpuse using the custom filter defined above\n",
    "# preprocess string is a function from gensim\n",
    "precrisis_strings_tokenized = [preprocess_string(x, CUSTOM_FILTER) for x in enron_pre_crisis['Cleaned_Body']]"
   ]
  },
  {
   "cell_type": "code",
   "execution_count": 9,
   "metadata": {},
   "outputs": [],
   "source": [
    "# Create dictionary of the all_strings_tokenized using the corpora.Dictionary method   \n",
    "dict = gensim.corpora.Dictionary(precrisis_strings_tokenized)"
   ]
  },
  {
   "cell_type": "code",
   "execution_count": 11,
   "metadata": {},
   "outputs": [],
   "source": [
    "# Create a corpus bag of word from our tokenized strings\n",
    "bow_corpus = [dict.doc2bow(text) for text in precrisis_strings_tokenized]"
   ]
  },
  {
   "cell_type": "code",
   "execution_count": 12,
   "metadata": {},
   "outputs": [],
   "source": [
    "# Crate a LDA model with 5 topics\n",
    "# num topics to indicate how many topics to generate\n",
    "lda1 = gensim.models.LdaModel(corpus= bow_corpus, num_topics=5, id2word=dict)\n",
    "reviews_vis_data = gensimvis.prepare(lda1, bow_corpus, dict)"
   ]
  },
  {
   "cell_type": "code",
   "execution_count": 13,
   "metadata": {},
   "outputs": [
    {
     "name": "stdout",
     "output_type": "stream",
     "text": [
      "[   (   0,\n",
      "        '0.026*\"subject\" + 0.023*\"the\" + 0.020*\"forward\" + 0.013*\"please\" + '\n",
      "        '0.011*\"for\" + 0.009*\"you\" + 0.009*\"attach\" + 0.009*\"from\" + '\n",
      "        '0.009*\"this\" + 0.008*\"thanks\"'),\n",
      "    (   1,\n",
      "        '0.039*\"the\" + 0.037*\"you\" + 0.028*\"and\" + 0.018*\"for\" + 0.015*\"have\" '\n",
      "        '+ 0.013*\"your\" + 0.012*\"this\" + 0.011*\"will\" + 0.010*\"with\" + '\n",
      "        '0.009*\"from\"'),\n",
      "    (   2,\n",
      "        '0.078*\"the\" + 0.024*\"and\" + 0.018*\"for\" + 0.009*\"have\" + 0.008*\"you\" '\n",
      "        '+ 0.008*\"your\" + 0.008*\"this\" + 0.006*\"that\" + 0.006*\"will\" + '\n",
      "        '0.006*\"price\"'),\n",
      "    (   3,\n",
      "        '0.084*\"the\" + 0.027*\"and\" + 0.024*\"that\" + 0.021*\"have\" + 0.015*\"for\" '\n",
      "        '+ 0.014*\"this\" + 0.013*\"with\" + 0.011*\"not\" + 0.011*\"you\" + '\n",
      "        '0.008*\"would\"'),\n",
      "    (   4,\n",
      "        '0.066*\"the\" + 0.037*\"and\" + 0.016*\"for\" + 0.010*\"will\" + 0.009*\"that\" '\n",
      "        '+ 0.009*\"with\" + 0.008*\"gas\" + 0.008*\"have\" + 0.008*\"market\" + '\n",
      "        '0.007*\"company\"')]\n"
     ]
    }
   ],
   "source": [
    "pp = pprint.PrettyPrinter(indent=4, compact=True,)\n",
    "pp.pprint(lda1.show_topics())"
   ]
  },
  {
   "cell_type": "markdown",
   "metadata": {},
   "source": [
    "# Q2 ANALYSIS TESTING"
   ]
  }
 ],
 "metadata": {
  "kernelspec": {
   "display_name": "venv",
   "language": "python",
   "name": "python3"
  },
  "language_info": {
   "codemirror_mode": {
    "name": "ipython",
    "version": 3
   },
   "file_extension": ".py",
   "mimetype": "text/x-python",
   "name": "python",
   "nbconvert_exporter": "python",
   "pygments_lexer": "ipython3",
   "version": "3.10.11"
  }
 },
 "nbformat": 4,
 "nbformat_minor": 2
}
