{
 "cells": [
  {
   "cell_type": "markdown",
   "metadata": {},
   "source": [
    "# IND5003 Enron Project\n",
    "## Contents of this Jupyter Notebook\n",
    "### Dataset\n",
    "Dataset from Prof: \n",
    "(https://www.cs.cmu.edu/~./enron/)\n",
    "- Unstructured Dataset containing raw text in the form of emails\n",
    "**Make sure that the dataset 'maildir' is in the same directory as your project on your own system. Else this would not work**"
   ]
  },
  {
   "cell_type": "markdown",
   "metadata": {},
   "source": [
    "## Approach to this Project\n",
    "\n",
    "### Research Questions\n",
    "(Use research questions to provide a narrative and storyline in our analysis of the Enron Email Corpus)\n",
    "\n",
    "We would be taking a broad to narrow approach in terms of the narrative that we are looking to create. \n",
    "\n",
    "Some research questions that we would be hoping to analyse in this project are:\n",
    "1. Are there any topical shifts that we can identify prior, leading up to and after the fraud has been exposed?\n",
    "2. Can we detect sentiment shifts and anomalies in communication patterns leading up to, during and after the exposure of the fraud?\n",
    "3. Identification of key individuals involved in the key discussions and anomalies in their comms patterns\n",
    "\n",
    "#### Timeline\n",
    "\n",
    "We have an intention to split our analysis into 3 defined timeframes:\n",
    "1. Pre-Crisis (June 1999 - Aug 2001)\n",
    "2. During Crisis (Sep 2000 - Oct 2001 )\n",
    "3. Post Crisis (Nov 2001 - June 2002)\n",
    "\n",
    "These research questions would be answered using a variety of NLP and Unsupervised Learning Techniques. \n",
    "\n",
    "*** [GUYS WE NEED TO THINK OF THE TECHNIQUES] ***\n",
    "1. t-sne for initial identification of clusters\n",
    "2. LDA for topic identification\n",
    "3. Named entity recognition for trends in any entity\n",
    "4. Sentimental Analysis\n",
    "5. Anomaly detection (HOW?) \n",
    "6. Information retrieval to identify relevant individuals"
   ]
  },
  {
   "cell_type": "markdown",
   "metadata": {},
   "source": [
    "### Overall Steps to Tackle this Project\n",
    "1. Data Extraction\n",
    "2. Data Cleaning & Preprocessing\n",
    "3. Initial Data Exploration\n",
    "    - Sender Frequency Analysis\n",
    "    - Number of Emails Across Time\n",
    "    - General topic modeling\n",
    "    - General sentiment analysis\n",
    "    - Word Cloud & Bar Charts for the Top Senders (20%)\n",
    "    - Network Graph\n",
    "    - t-sne graph\n",
    "4. Research Questions\n",
    "    1. Temporal Topical shifts using LDA Topic Modeling\n",
    "    2. Temporal Sentimental Analysis - Segment the emails by quarters. Look at the way communication changes over time.\n",
    "    3. Anomaly detection using?\n",
    "    4. Key individual detection using?\n",
    "\n",
    "    "
   ]
  },
  {
   "cell_type": "markdown",
   "metadata": {},
   "source": [
    "## Section 1: Data Extraction\n",
    "- Extract the emails from the unstructured raw folder\n"
   ]
  },
  {
   "cell_type": "code",
   "execution_count": 82,
   "metadata": {},
   "outputs": [
    {
     "name": "stderr",
     "output_type": "stream",
     "text": [
      "[nltk_data] Downloading package wordnet to /Users/Dylan/nltk_data...\n",
      "[nltk_data]   Package wordnet is already up-to-date!\n",
      "[nltk_data] Downloading package averaged_perceptron_tagger to\n",
      "[nltk_data]     /Users/Dylan/nltk_data...\n",
      "[nltk_data]   Package averaged_perceptron_tagger is already up-to-\n",
      "[nltk_data]       date!\n"
     ]
    }
   ],
   "source": [
    "# Import the relevant libraries required for Section 1\n",
    "import os # Required for directory traversal\n",
    "import pandas as pd\n",
    "import email\n",
    "from email import policy\n",
    "from email.parser import BytesParser\n",
    "from collections import defaultdict\n",
    "from itertools import islice\n",
    "\n",
    "# additional libraries added for possible usage\n",
    "import numpy as np\n",
    "import pprint\n",
    "import nltk\n",
    "import re\n",
    "import gensim\n",
    "from gensim.parsing.preprocessing import *\n",
    "import gensim.downloader as api\n",
    "from nltk.stem import PorterStemmer, WordNetLemmatizer\n",
    "nltk.download('wordnet')\n",
    "nltk.download('averaged_perceptron_tagger')\n",
    "from nltk.corpus import wordnet\n",
    "\n",
    "from sklearn.feature_extraction.text import CountVectorizer, TfidfVectorizer\n",
    "from sklearn.metrics.pairwise import cosine_similarity\n",
    "from sklearn import manifold\n",
    "\n",
    "from transformers import pipeline\n",
    "\n",
    "import pyLDAvis\n",
    "import pyLDAvis.gensim_models as gensimvis\n",
    "import matplotlib.pyplot as plt\n",
    "import plotly.express as px\n"
   ]
  },
  {
   "cell_type": "code",
   "execution_count": 3,
   "metadata": {},
   "outputs": [],
   "source": [
    "# # Set the maildir path to the respective paths in your system \n",
    "# # ! Note that maildir should be in the same directory as your project on your own system, would change if you are using windows\n",
    "# maildir_path = '/Users/Dylan/Documents/IND5003/Projects/maildir'"
   ]
  },
  {
   "cell_type": "code",
   "execution_count": 4,
   "metadata": {},
   "outputs": [],
   "source": [
    "# # Create a list of all the directories in the maildir for sanity check\n",
    "# maildir_list = os.listdir(maildir_path)\n",
    "# print(maildir_list)"
   ]
  },
  {
   "cell_type": "code",
   "execution_count": 5,
   "metadata": {},
   "outputs": [],
   "source": [
    "# def parse_email(file_path):\n",
    "#     try:\n",
    "#         with open(file_path, 'rb') as f:\n",
    "#             msg = BytesParser(policy=policy.default).parse(f)\n",
    "        \n",
    "#         # Extract fields from the email\n",
    "#         email_from = msg['From']\n",
    "#         email_to = msg['To']\n",
    "#         email_date = msg['Date']\n",
    "#         email_subject = msg['Subject']\n",
    "#         email_body = msg.get_body(preferencelist=('plain')).get_content() if msg.get_body(preferencelist=('plain')) else ''\n",
    "        \n",
    "#         return [email_from, email_to, email_date, email_subject, email_body]\n",
    "#     except Exception as e:\n",
    "#         print(f\"Error parsing file {file_path}: {e}\")\n",
    "#         return None\n",
    "\n",
    "# def batch_iterator(iterator, batch_size):\n",
    "#     \"\"\"Yield batches of specified size from an iterator.\"\"\"\n",
    "#     while True:\n",
    "#         batch = list(islice(iterator, batch_size))\n",
    "#         if not batch:\n",
    "#             break\n",
    "#         yield batch\n",
    "\n",
    "# def load_emails(maildir_path, batch_size=10, max_emails=50):\n",
    "#     email_data = []\n",
    "#     file_paths = []\n",
    "\n",
    "#     # Walk through the directory to collect file paths\n",
    "#     for root, dirs, files in os.walk(maildir_path):\n",
    "#         for file in files:\n",
    "#             if file == '.DS_Store' or file.startswith('.'):\n",
    "#                 continue  # Skip system files and hidden files\n",
    "#             file_paths.append(os.path.join(root, file))\n",
    "#             if len(file_paths) >= max_emails:\n",
    "#                 break\n",
    "#         if len(file_paths) >= max_emails:\n",
    "#             break\n",
    "\n",
    "#     # Process emails in batches\n",
    "#     for batch in batch_iterator(iter(file_paths), batch_size):\n",
    "#         batch_data = []\n",
    "#         for file_path in batch:\n",
    "#             result = parse_email(file_path)\n",
    "#             if result is not None:\n",
    "#                 batch_data.append(result)\n",
    "        \n",
    "#         # Append batch data to the main list\n",
    "#         email_data.extend(batch_data)\n",
    "\n",
    "#     # Create a DataFrame from the extracted data\n",
    "#     df = pd.DataFrame(email_data, columns=['From', 'To', 'Date', 'Subject', 'Body'])\n",
    "#     return df\n",
    "\n",
    "# # Load and parse emails\n",
    "# emails_df = load_emails(maildir_path, batch_size=10, max_emails=50)\n",
    "\n",
    "# # Display the DataFrame\n",
    "# print(emails_df.head())"
   ]
  },
  {
   "cell_type": "code",
   "execution_count": 6,
   "metadata": {},
   "outputs": [],
   "source": [
    "\n",
    "# # ! This is a very large dataset and will take a long time to run\n",
    "# # ! DO NOT RUN THIS FOR FUN UNLESS YOU WANT YOUR COMPUTER TO CRASH\n",
    "# def parse_email(file_path):\n",
    "#     try:\n",
    "#         with open(file_path, 'rb') as f:\n",
    "#             msg = BytesParser(policy=policy.default).parse(f)\n",
    "        \n",
    "#         # Extract fields from the email\n",
    "#         email_from = msg['From']\n",
    "#         email_to = msg['To']\n",
    "#         email_date = msg['Date']\n",
    "#         email_subject = msg['Subject']\n",
    "#         email_body = msg.get_body(preferencelist=('plain')).get_content() if msg.get_body(preferencelist=('plain')) else ''\n",
    "        \n",
    "#         return [email_from, email_to, email_date, email_subject, email_body]\n",
    "#     except Exception as e:\n",
    "#         print(f\"Error parsing file {file_path}: {e}\")\n",
    "#         return None\n",
    "\n",
    "# def batch_iterator(iterator, batch_size):\n",
    "#     \"\"\"Yield batches of specified size from an iterator.\"\"\"\n",
    "#     while True:\n",
    "#         batch = list(islice(iterator, batch_size))\n",
    "#         if not batch:\n",
    "#             break\n",
    "#         yield batch\n",
    "\n",
    "# def load_emails(maildir_path, batch_size=1000):\n",
    "#     email_data = []\n",
    "#     file_paths = []\n",
    "\n",
    "#     # Walk through the directory to collect file paths\n",
    "#     for root, dirs, files in os.walk(maildir_path):\n",
    "#         for file in files:\n",
    "#             if file == '.DS_Store' or file.startswith('.'):\n",
    "#                 continue  # Skip system files and hidden files\n",
    "#             file_paths.append(os.path.join(root, file))\n",
    "\n",
    "#     # Process emails in batches\n",
    "#     for batch in batch_iterator(iter(file_paths), batch_size):\n",
    "#         batch_data = []\n",
    "#         for file_path in batch:\n",
    "#             result = parse_email(file_path)\n",
    "#             if result is not None:\n",
    "#                 batch_data.append(result)\n",
    "        \n",
    "#         # Append batch data to the main list\n",
    "#         email_data.extend(batch_data)\n",
    "\n",
    "#     # Create a DataFrame from the extracted data\n",
    "#     df = pd.DataFrame(email_data, columns=['From', 'To', 'Date', 'Subject', 'Body'])\n",
    "#     return df\n",
    "\n",
    "# # Load and parse emails\n",
    "# emails_df = load_emails(maildir_path, batch_size=1000)\n",
    "\n",
    "# # Display the DataFrame\n",
    "# print(emails_df.head())"
   ]
  },
  {
   "cell_type": "markdown",
   "metadata": {},
   "source": [
    "### Loading the Data into a Pandas DF"
   ]
  },
  {
   "cell_type": "code",
   "execution_count": 7,
   "metadata": {},
   "outputs": [],
   "source": [
    "# Convert emails_df to a CSV file\n",
    "# Save the DataFrame as a CSV file in the specified directory\n",
    "\n",
    "#emails_df.to_csv('/Users/Dylan/Documents/IND5003/Projects/emails_uncleaned.csv', index=False)\n"
   ]
  },
  {
   "cell_type": "code",
   "execution_count": 83,
   "metadata": {},
   "outputs": [],
   "source": [
    "# Load the CSV file back into a DataFrame\n",
    "\n",
    "# PLEASE CHANGE IT TO YOUR OWN DIRECTORY IN YOUR OWN SYSTEM \n",
    "\n",
    "# Load the CSV file back into a DataFrame\n",
    "\n",
    "# PLEASE CHANGE IT TO YOUR OWN DIRECTORY IN YOUR OWN SYSTEM \n",
    "\n",
    "enron_uncleaned_emails = pd.read_csv('/Users/Dylan/Documents/IND5003/Projects/enron_emails_uncleaned.csv')"
   ]
  },
  {
   "cell_type": "code",
   "execution_count": 85,
   "metadata": {},
   "outputs": [
    {
     "data": {
      "text/html": [
       "<div>\n",
       "<style scoped>\n",
       "    .dataframe tbody tr th:only-of-type {\n",
       "        vertical-align: middle;\n",
       "    }\n",
       "\n",
       "    .dataframe tbody tr th {\n",
       "        vertical-align: top;\n",
       "    }\n",
       "\n",
       "    .dataframe thead th {\n",
       "        text-align: right;\n",
       "    }\n",
       "</style>\n",
       "<table border=\"1\" class=\"dataframe\">\n",
       "  <thead>\n",
       "    <tr style=\"text-align: right;\">\n",
       "      <th></th>\n",
       "      <th>From</th>\n",
       "      <th>To</th>\n",
       "      <th>Date</th>\n",
       "      <th>Subject</th>\n",
       "      <th>Body</th>\n",
       "    </tr>\n",
       "  </thead>\n",
       "  <tbody>\n",
       "    <tr>\n",
       "      <th>0</th>\n",
       "      <td>msagel@home.com</td>\n",
       "      <td>jarnold@enron.com</td>\n",
       "      <td>Thu, 16 Nov 2000 09:30:00 -0800</td>\n",
       "      <td>Status</td>\n",
       "      <td>John:\\n?\\nI'm not really sure what happened be...</td>\n",
       "    </tr>\n",
       "    <tr>\n",
       "      <th>1</th>\n",
       "      <td>slafontaine@globalp.com</td>\n",
       "      <td>john.arnold@enron.com</td>\n",
       "      <td>Fri, 08 Dec 2000 05:05:00 -0800</td>\n",
       "      <td>re:summer inverses</td>\n",
       "      <td>i suck-hope youve made more money in natgas la...</td>\n",
       "    </tr>\n",
       "    <tr>\n",
       "      <th>2</th>\n",
       "      <td>iceoperations@intcx.com</td>\n",
       "      <td>icehelpdesk@intcx.com, internalmarketing@intcx...</td>\n",
       "      <td>Tue, 15 May 2001 09:43:00 -0700</td>\n",
       "      <td>The WTI Bullet swap contracts</td>\n",
       "      <td>Hi,\\n\\n\\n  Following the e-mail you have rece...</td>\n",
       "    </tr>\n",
       "    <tr>\n",
       "      <th>3</th>\n",
       "      <td>jeff.youngflesh@enron.com</td>\n",
       "      <td>anthony.gilmore@enron.com, colleen.koenig@enro...</td>\n",
       "      <td>Mon, 27 Nov 2000 01:49:00 -0800</td>\n",
       "      <td>Invitation: EBS/GSS Meeting w/Bristol Babcock ...</td>\n",
       "      <td>Conference Room TBD.  \\n\\nThis meeting will be...</td>\n",
       "    </tr>\n",
       "    <tr>\n",
       "      <th>4</th>\n",
       "      <td>caroline.abramo@enron.com</td>\n",
       "      <td>mike.grigsby@enron.com</td>\n",
       "      <td>Tue, 12 Dec 2000 09:33:00 -0800</td>\n",
       "      <td>Harvard Mgmt</td>\n",
       "      <td>Mike- I have their trader coming into the offi...</td>\n",
       "    </tr>\n",
       "  </tbody>\n",
       "</table>\n",
       "</div>"
      ],
      "text/plain": [
       "                        From  \\\n",
       "0            msagel@home.com   \n",
       "1    slafontaine@globalp.com   \n",
       "2    iceoperations@intcx.com   \n",
       "3  jeff.youngflesh@enron.com   \n",
       "4  caroline.abramo@enron.com   \n",
       "\n",
       "                                                  To  \\\n",
       "0                                  jarnold@enron.com   \n",
       "1                              john.arnold@enron.com   \n",
       "2  icehelpdesk@intcx.com, internalmarketing@intcx...   \n",
       "3  anthony.gilmore@enron.com, colleen.koenig@enro...   \n",
       "4                             mike.grigsby@enron.com   \n",
       "\n",
       "                              Date  \\\n",
       "0  Thu, 16 Nov 2000 09:30:00 -0800   \n",
       "1  Fri, 08 Dec 2000 05:05:00 -0800   \n",
       "2  Tue, 15 May 2001 09:43:00 -0700   \n",
       "3  Mon, 27 Nov 2000 01:49:00 -0800   \n",
       "4  Tue, 12 Dec 2000 09:33:00 -0800   \n",
       "\n",
       "                                             Subject  \\\n",
       "0                                             Status   \n",
       "1                                 re:summer inverses   \n",
       "2                      The WTI Bullet swap contracts   \n",
       "3  Invitation: EBS/GSS Meeting w/Bristol Babcock ...   \n",
       "4                                       Harvard Mgmt   \n",
       "\n",
       "                                                Body  \n",
       "0  John:\\n?\\nI'm not really sure what happened be...  \n",
       "1  i suck-hope youve made more money in natgas la...  \n",
       "2   Hi,\\n\\n\\n  Following the e-mail you have rece...  \n",
       "3  Conference Room TBD.  \\n\\nThis meeting will be...  \n",
       "4  Mike- I have their trader coming into the offi...  "
      ]
     },
     "execution_count": 85,
     "metadata": {},
     "output_type": "execute_result"
    }
   ],
   "source": [
    "enron_uncleaned_emails.head()"
   ]
  },
  {
   "cell_type": "code",
   "execution_count": 10,
   "metadata": {},
   "outputs": [],
   "source": [
    "# # Find \"kitchen\" in the column \"From\"\n",
    "\n",
    "# # This is to determine that there are still emails sent from louise kitchen despite the original parsing error due to the encoding of the email\n",
    "# kitchen_emails = enron_uncleaned_emails[enron_uncleaned_emails['From'].str.contains('kitchen', case=False, na=False)]\n",
    "# print(kitchen_emails)"
   ]
  },
  {
   "cell_type": "markdown",
   "metadata": {},
   "source": [
    "## Section 2: Data Preprocessing\n",
    "### Start with the Cleaning\n",
    "* Check for any nulls\n",
    "* Drop the missing values\n",
    "* Remove the duplicates\n",
    "* Format the dates \n",
    "\n"
   ]
  },
  {
   "cell_type": "code",
   "execution_count": 86,
   "metadata": {},
   "outputs": [
    {
     "name": "stdout",
     "output_type": "stream",
     "text": [
      "    Column  Missing Values\n",
      "0     From               0\n",
      "1       To           21847\n",
      "2     Date               0\n",
      "3  Subject           19187\n",
      "4     Body               0\n"
     ]
    }
   ],
   "source": [
    "# Check for Nulls in Each Column\n",
    "missing_values = enron_uncleaned_emails.isnull().sum()\n",
    "missing_values_df = pd.DataFrame({'Column': missing_values.index, 'Missing Values': missing_values.values})\n",
    "print(missing_values_df)"
   ]
  },
  {
   "cell_type": "code",
   "execution_count": 87,
   "metadata": {},
   "outputs": [
    {
     "data": {
      "text/html": [
       "<div>\n",
       "<style scoped>\n",
       "    .dataframe tbody tr th:only-of-type {\n",
       "        vertical-align: middle;\n",
       "    }\n",
       "\n",
       "    .dataframe tbody tr th {\n",
       "        vertical-align: top;\n",
       "    }\n",
       "\n",
       "    .dataframe thead th {\n",
       "        text-align: right;\n",
       "    }\n",
       "</style>\n",
       "<table border=\"1\" class=\"dataframe\">\n",
       "  <thead>\n",
       "    <tr style=\"text-align: right;\">\n",
       "      <th></th>\n",
       "      <th>From</th>\n",
       "      <th>To</th>\n",
       "      <th>Date</th>\n",
       "      <th>Subject</th>\n",
       "      <th>Body</th>\n",
       "    </tr>\n",
       "  </thead>\n",
       "  <tbody>\n",
       "    <tr>\n",
       "      <th>count</th>\n",
       "      <td>517396</td>\n",
       "      <td>495549</td>\n",
       "      <td>517396</td>\n",
       "      <td>498209</td>\n",
       "      <td>517396</td>\n",
       "    </tr>\n",
       "    <tr>\n",
       "      <th>unique</th>\n",
       "      <td>20326</td>\n",
       "      <td>58556</td>\n",
       "      <td>224119</td>\n",
       "      <td>159286</td>\n",
       "      <td>249020</td>\n",
       "    </tr>\n",
       "    <tr>\n",
       "      <th>top</th>\n",
       "      <td>kay.mann@enron.com</td>\n",
       "      <td>pete.davis@enron.com</td>\n",
       "      <td>Wed, 27 Jun 2001 16:02:00 -0700</td>\n",
       "      <td>RE:</td>\n",
       "      <td>As you know, Enron Net Works (ENW) and Enron G...</td>\n",
       "    </tr>\n",
       "    <tr>\n",
       "      <th>freq</th>\n",
       "      <td>16735</td>\n",
       "      <td>9155</td>\n",
       "      <td>1118</td>\n",
       "      <td>6477</td>\n",
       "      <td>112</td>\n",
       "    </tr>\n",
       "  </tbody>\n",
       "</table>\n",
       "</div>"
      ],
      "text/plain": [
       "                      From                    To  \\\n",
       "count               517396                495549   \n",
       "unique               20326                 58556   \n",
       "top     kay.mann@enron.com  pete.davis@enron.com   \n",
       "freq                 16735                  9155   \n",
       "\n",
       "                                   Date Subject  \\\n",
       "count                            517396  498209   \n",
       "unique                           224119  159286   \n",
       "top     Wed, 27 Jun 2001 16:02:00 -0700     RE:   \n",
       "freq                               1118    6477   \n",
       "\n",
       "                                                     Body  \n",
       "count                                              517396  \n",
       "unique                                             249020  \n",
       "top     As you know, Enron Net Works (ENW) and Enron G...  \n",
       "freq                                                  112  "
      ]
     },
     "execution_count": 87,
     "metadata": {},
     "output_type": "execute_result"
    }
   ],
   "source": [
    "# Description of the DataFrame\n",
    "enron_uncleaned_emails.describe()"
   ]
  },
  {
   "cell_type": "code",
   "execution_count": 88,
   "metadata": {},
   "outputs": [],
   "source": [
    "# Fill out the missing values with empty strings\n",
    "enron_cleaned_emails = enron_uncleaned_emails.fillna('')"
   ]
  },
  {
   "cell_type": "code",
   "execution_count": 89,
   "metadata": {},
   "outputs": [
    {
     "name": "stdout",
     "output_type": "stream",
     "text": [
      "    Column  Missing Values\n",
      "0     From               0\n",
      "1       To               0\n",
      "2     Date               0\n",
      "3  Subject               0\n",
      "4     Body               0\n"
     ]
    }
   ],
   "source": [
    "# Post cleaning Check\n",
    "missing_values_check = enron_cleaned_emails.isnull().sum()\n",
    "missing_values_df_check = pd.DataFrame({'Column': missing_values_check.index, 'Missing Values': missing_values_check.values})\n",
    "print(missing_values_df_check)"
   ]
  },
  {
   "cell_type": "code",
   "execution_count": 8,
   "metadata": {},
   "outputs": [
    {
     "data": {
      "text/html": [
       "<div>\n",
       "<style scoped>\n",
       "    .dataframe tbody tr th:only-of-type {\n",
       "        vertical-align: middle;\n",
       "    }\n",
       "\n",
       "    .dataframe tbody tr th {\n",
       "        vertical-align: top;\n",
       "    }\n",
       "\n",
       "    .dataframe thead th {\n",
       "        text-align: right;\n",
       "    }\n",
       "</style>\n",
       "<table border=\"1\" class=\"dataframe\">\n",
       "  <thead>\n",
       "    <tr style=\"text-align: right;\">\n",
       "      <th></th>\n",
       "      <th>From</th>\n",
       "      <th>To</th>\n",
       "      <th>Date</th>\n",
       "      <th>Subject</th>\n",
       "      <th>Body</th>\n",
       "    </tr>\n",
       "  </thead>\n",
       "  <tbody>\n",
       "    <tr>\n",
       "      <th>count</th>\n",
       "      <td>517396</td>\n",
       "      <td>517396</td>\n",
       "      <td>517396</td>\n",
       "      <td>517396</td>\n",
       "      <td>517396</td>\n",
       "    </tr>\n",
       "    <tr>\n",
       "      <th>unique</th>\n",
       "      <td>20326</td>\n",
       "      <td>58557</td>\n",
       "      <td>224119</td>\n",
       "      <td>159287</td>\n",
       "      <td>249020</td>\n",
       "    </tr>\n",
       "    <tr>\n",
       "      <th>top</th>\n",
       "      <td>kay.mann@enron.com</td>\n",
       "      <td></td>\n",
       "      <td>Wed, 27 Jun 2001 16:02:00 -0700</td>\n",
       "      <td></td>\n",
       "      <td>As you know, Enron Net Works (ENW) and Enron G...</td>\n",
       "    </tr>\n",
       "    <tr>\n",
       "      <th>freq</th>\n",
       "      <td>16735</td>\n",
       "      <td>21847</td>\n",
       "      <td>1118</td>\n",
       "      <td>19187</td>\n",
       "      <td>112</td>\n",
       "    </tr>\n",
       "  </tbody>\n",
       "</table>\n",
       "</div>"
      ],
      "text/plain": [
       "                      From      To                             Date Subject  \\\n",
       "count               517396  517396                           517396  517396   \n",
       "unique               20326   58557                           224119  159287   \n",
       "top     kay.mann@enron.com          Wed, 27 Jun 2001 16:02:00 -0700           \n",
       "freq                 16735   21847                             1118   19187   \n",
       "\n",
       "                                                     Body  \n",
       "count                                              517396  \n",
       "unique                                             249020  \n",
       "top     As you know, Enron Net Works (ENW) and Enron G...  \n",
       "freq                                                  112  "
      ]
     },
     "execution_count": 8,
     "metadata": {},
     "output_type": "execute_result"
    }
   ],
   "source": [
    "# Describe the cleaned DataFrame\n",
    "enron_cleaned_emails.describe()"
   ]
  },
  {
   "cell_type": "markdown",
   "metadata": {},
   "source": [
    "* From running the code above, the output would show that there are 249020 emails with unique bodies out of the 517396 emails. \n",
    "    * This means that ~51.9% of emails in the uncleaned dataframe are not unique\n",
    "    * This would ensure that the subsequent analytical metrics (when performing LDA, TFIDF, Word2vec) are not inflated. "
   ]
  },
  {
   "cell_type": "code",
   "execution_count": 10,
   "metadata": {},
   "outputs": [
    {
     "data": {
      "text/html": [
       "<div>\n",
       "<style scoped>\n",
       "    .dataframe tbody tr th:only-of-type {\n",
       "        vertical-align: middle;\n",
       "    }\n",
       "\n",
       "    .dataframe tbody tr th {\n",
       "        vertical-align: top;\n",
       "    }\n",
       "\n",
       "    .dataframe thead th {\n",
       "        text-align: right;\n",
       "    }\n",
       "</style>\n",
       "<table border=\"1\" class=\"dataframe\">\n",
       "  <thead>\n",
       "    <tr style=\"text-align: right;\">\n",
       "      <th></th>\n",
       "      <th>From</th>\n",
       "      <th>To</th>\n",
       "      <th>Date</th>\n",
       "      <th>Subject</th>\n",
       "      <th>Body</th>\n",
       "    </tr>\n",
       "  </thead>\n",
       "  <tbody>\n",
       "    <tr>\n",
       "      <th>count</th>\n",
       "      <td>255488</td>\n",
       "      <td>255488</td>\n",
       "      <td>255488</td>\n",
       "      <td>255488</td>\n",
       "      <td>255488</td>\n",
       "    </tr>\n",
       "    <tr>\n",
       "      <th>unique</th>\n",
       "      <td>20326</td>\n",
       "      <td>58557</td>\n",
       "      <td>224119</td>\n",
       "      <td>159287</td>\n",
       "      <td>249020</td>\n",
       "    </tr>\n",
       "    <tr>\n",
       "      <th>top</th>\n",
       "      <td>jeff.dasovich@enron.com</td>\n",
       "      <td></td>\n",
       "      <td>Wed, 27 Jun 2001 16:02:00 -0700</td>\n",
       "      <td></td>\n",
       "      <td>test</td>\n",
       "    </tr>\n",
       "    <tr>\n",
       "      <th>freq</th>\n",
       "      <td>5530</td>\n",
       "      <td>9989</td>\n",
       "      <td>1118</td>\n",
       "      <td>8766</td>\n",
       "      <td>40</td>\n",
       "    </tr>\n",
       "  </tbody>\n",
       "</table>\n",
       "</div>"
      ],
      "text/plain": [
       "                           From      To                             Date  \\\n",
       "count                    255488  255488                           255488   \n",
       "unique                    20326   58557                           224119   \n",
       "top     jeff.dasovich@enron.com          Wed, 27 Jun 2001 16:02:00 -0700   \n",
       "freq                       5530    9989                             1118   \n",
       "\n",
       "       Subject    Body  \n",
       "count   255488  255488  \n",
       "unique  159287  249020  \n",
       "top               test  \n",
       "freq      8766      40  "
      ]
     },
     "execution_count": 10,
     "metadata": {},
     "output_type": "execute_result"
    }
   ],
   "source": [
    "# Remove duplicate emails based on the 'Body' column, keeping only the first occurrence\n",
    "enron_cleaned_emails_body_unique = enron_cleaned_emails.drop_duplicates(keep='first')\n",
    "# Describe the DataFrame after removing duplicates\n",
    "enron_cleaned_emails_body_unique.describe()"
   ]
  },
  {
   "cell_type": "code",
   "execution_count": 17,
   "metadata": {},
   "outputs": [],
   "source": [
    "# # When running the code block above, i observed that jeff dasovich sent the most emails. \n",
    "# # Now i want to explore the number of emails he sent\n",
    "# # Filter emails where 'From' is 'jeff.dasovich@enron.com'\n",
    "# jeff_emails = enron_cleaned_emails_body_unique[enron_cleaned_emails_body_unique['From'] == 'jeff.dasovich@enron.com']\n",
    "\n",
    "# # Count the number of emails he sent\n",
    "# jeff_emails_count = jeff_emails.shape[0]\n",
    "\n",
    "# # Display the count\n",
    "# print(f\"Jeff Dasovich sent {jeff_emails_count} emails.\")\n",
    "\n",
    "# # Display the first few rows of Jeff's emails\n",
    "# jeff_emails.head()\n"
   ]
  },
  {
   "cell_type": "code",
   "execution_count": 11,
   "metadata": {},
   "outputs": [
    {
     "name": "stdout",
     "output_type": "stream",
     "text": [
      "From                    object\n",
      "To                      object\n",
      "Date       datetime64[ns, UTC]\n",
      "Subject                 object\n",
      "Body                    object\n",
      "dtype: object\n"
     ]
    },
    {
     "name": "stderr",
     "output_type": "stream",
     "text": [
      "/var/folders/mg/37xvz49s5ybb842_sy2sm9500000gp/T/ipykernel_3940/2504716352.py:2: SettingWithCopyWarning: \n",
      "A value is trying to be set on a copy of a slice from a DataFrame.\n",
      "Try using .loc[row_indexer,col_indexer] = value instead\n",
      "\n",
      "See the caveats in the documentation: https://pandas.pydata.org/pandas-docs/stable/user_guide/indexing.html#returning-a-view-versus-a-copy\n",
      "  enron_cleaned_emails_body_unique['Date'] = pd.to_datetime(enron_cleaned_emails_body_unique['Date'], errors='coerce', utc=True)\n"
     ]
    }
   ],
   "source": [
    "# Convert the Date column to a pandas datetime object in the deduplicated dataframe\n",
    "enron_cleaned_emails_body_unique['Date'] = pd.to_datetime(enron_cleaned_emails_body_unique['Date'], errors='coerce', utc=True)\n",
    "\n",
    "# Print the types of each column to ensure that the Date column is now a datetime object\n",
    "print(enron_cleaned_emails_body_unique.dtypes)"
   ]
  },
  {
   "cell_type": "code",
   "execution_count": 12,
   "metadata": {},
   "outputs": [
    {
     "name": "stdout",
     "output_type": "stream",
     "text": [
      "    Year  Emails\n",
      "0   1980     292\n",
      "1   1986       2\n",
      "2   1997     112\n",
      "3   1998      90\n",
      "4   1999    4909\n",
      "5   2000   65982\n",
      "6   2001  154653\n",
      "7   2002   29371\n",
      "8   2004      66\n",
      "9   2005       1\n",
      "10  2007       1\n",
      "11  2012       2\n",
      "12  2020       2\n",
      "13  2024       1\n",
      "14  2043       1\n",
      "15  2044       3\n"
     ]
    },
    {
     "name": "stderr",
     "output_type": "stream",
     "text": [
      "/var/folders/mg/37xvz49s5ybb842_sy2sm9500000gp/T/ipykernel_3940/529211872.py:2: SettingWithCopyWarning: \n",
      "A value is trying to be set on a copy of a slice from a DataFrame.\n",
      "Try using .loc[row_indexer,col_indexer] = value instead\n",
      "\n",
      "See the caveats in the documentation: https://pandas.pydata.org/pandas-docs/stable/user_guide/indexing.html#returning-a-view-versus-a-copy\n",
      "  enron_cleaned_emails_body_unique['Year'] = enron_cleaned_emails_body_unique['Date'].dt.year\n",
      "/var/folders/mg/37xvz49s5ybb842_sy2sm9500000gp/T/ipykernel_3940/529211872.py:5: SettingWithCopyWarning: \n",
      "A value is trying to be set on a copy of a slice from a DataFrame.\n",
      "Try using .loc[row_indexer,col_indexer] = value instead\n",
      "\n",
      "See the caveats in the documentation: https://pandas.pydata.org/pandas-docs/stable/user_guide/indexing.html#returning-a-view-versus-a-copy\n",
      "  enron_cleaned_emails_body_unique['Year'] = enron_cleaned_emails_body_unique['Year'].astype('Int64')\n"
     ]
    }
   ],
   "source": [
    "# Extract the 'Year' from the 'Date' column\n",
    "enron_cleaned_emails_body_unique['Year'] = enron_cleaned_emails_body_unique['Date'].dt.year\n",
    "\n",
    "# Convert the 'Year' column to an integer type if necessary\n",
    "enron_cleaned_emails_body_unique['Year'] = enron_cleaned_emails_body_unique['Year'].astype('Int64')\n",
    "\n",
    "# Count the number of emails sent per year and sort the index (years)\n",
    "emails_per_year = enron_cleaned_emails_body_unique['Year'].value_counts().sort_index()\n",
    "\n",
    "# Create a DataFrame to hold the year and the number of emails\n",
    "emails_per_year_df = pd.DataFrame({'Year': emails_per_year.index, 'Emails': emails_per_year.values})\n",
    "\n",
    "# Print the resulting DataFrame\n",
    "print(emails_per_year_df)"
   ]
  },
  {
   "cell_type": "code",
   "execution_count": 14,
   "metadata": {},
   "outputs": [
    {
     "name": "stdout",
     "output_type": "stream",
     "text": [
      "Year  Month\n",
      "1980  1        292\n",
      "1986  4          1\n",
      "      5          1\n",
      "1997  1          1\n",
      "      3         10\n",
      "              ... \n",
      "2012  11         2\n",
      "2020  12         2\n",
      "2024  5          1\n",
      "2043  12         1\n",
      "2044  1          3\n",
      "Name: From, Length: 73, dtype: int64\n"
     ]
    },
    {
     "name": "stderr",
     "output_type": "stream",
     "text": [
      "/var/folders/mg/37xvz49s5ybb842_sy2sm9500000gp/T/ipykernel_3940/703201955.py:2: SettingWithCopyWarning: \n",
      "A value is trying to be set on a copy of a slice from a DataFrame.\n",
      "Try using .loc[row_indexer,col_indexer] = value instead\n",
      "\n",
      "See the caveats in the documentation: https://pandas.pydata.org/pandas-docs/stable/user_guide/indexing.html#returning-a-view-versus-a-copy\n",
      "  enron_cleaned_emails_body_unique['Month'] = enron_cleaned_emails_body_unique['Date'].dt.month.astype('Int64')\n"
     ]
    }
   ],
   "source": [
    "# Create another column with the months of each row using the deduplicated dataframe\n",
    "enron_cleaned_emails_body_unique['Month'] = enron_cleaned_emails_body_unique['Date'].dt.month.astype('Int64')\n",
    "\n",
    "# Group the dataframe by Year and Month and count the number of emails (using 'From' as the count reference)\n",
    "emails_per_month_year = enron_cleaned_emails_body_unique.groupby(['Year', 'Month']).count()['From']\n",
    "\n",
    "# Print the resulting grouped data\n",
    "print(emails_per_month_year)\n"
   ]
  },
  {
   "cell_type": "code",
   "execution_count": 15,
   "metadata": {},
   "outputs": [
    {
     "data": {
      "text/plain": [
       "Month\n",
       "1     17154\n",
       "2      6756\n",
       "3      2930\n",
       "4       954\n",
       "5       748\n",
       "6       745\n",
       "7        76\n",
       "9         6\n",
       "10        1\n",
       "12        1\n",
       "Name: From, dtype: int64"
      ]
     },
     "execution_count": 15,
     "metadata": {},
     "output_type": "execute_result"
    }
   ],
   "source": [
    "# Check the number of emails in 2002 divided by month\n",
    "emails_per_month_year[2002]"
   ]
  },
  {
   "cell_type": "code",
   "execution_count": 16,
   "metadata": {},
   "outputs": [
    {
     "data": {
      "image/png": "[encoded data removed]",
      "text/plain": [
       "<Figure size 1000x500 with 1 Axes>"
      ]
     },
     "metadata": {},
     "output_type": "display_data"
    }
   ],
   "source": [
    "# Create large plot size\n",
    "plt.figure(figsize=(10, 5))\n",
    "emails_per_month_year.plot()\n",
    "# Add tick marks in the x axis for every 3 months\n",
    "plt.xticks(np.arange(0, len(emails_per_month_year), step=3), rotation=45,\n",
    "           labels=[f\"{year}-{month}\" for year, month in emails_per_month_year.index][::3])\n",
    "plt.ylabel('Number of Emails')\n",
    "plt.title('Number of Emails Sent Over Time')\n",
    "plt.grid()\n",
    "plt.show()"
   ]
  },
  {
   "cell_type": "code",
   "execution_count": 17,
   "metadata": {},
   "outputs": [],
   "source": [
    "import ssl\n",
    "import certifi\n",
    "ssl._create_default_https_context = ssl._create_unverified_context\n",
    "\n",
    "# Download necessary datasets\n",
    "# nltk.download('wordnet')\n",
    "# nltk.download('averaged_perceptron_tagger')\n",
    "\n",
    "# Initialize the lemmatizer\n",
    "wn = WordNetLemmatizer()\n",
    "\n",
    "# Function to map NLTK's POS tags to WordNet POS tags\n",
    "def get_wordnet_pos(word):\n",
    "    \"\"\"Get POS tag for lemmatization from NLTK's tag\"\"\"\n",
    "    tag = nltk.pos_tag([word])[0][1][0].upper()\n",
    "    tag_dict = {\"J\": wordnet.ADJ,  # Adjective\n",
    "                \"N\": wordnet.NOUN, # Noun\n",
    "                \"V\": wordnet.VERB, # Verb\n",
    "                \"R\": wordnet.ADV}  # Adverb\n",
    "    return tag_dict.get(tag, wordnet.NOUN)  # Default to noun if the tag is not found\n"
   ]
  },
  {
   "cell_type": "code",
   "execution_count": 18,
   "metadata": {},
   "outputs": [],
   "source": [
    "# Define function for cleaning and preprocessing the emails\n",
    "def clean_the_mails(text):\n",
    "    # Convert all the text to lowercase\n",
    "    text = text.lower()\n",
    "    \n",
    "    # Remove all the special characters, numbers, and punctuation\n",
    "    text = re.sub(r'[^a-z\\s]', '', text)\n",
    "    \n",
    "    # Tokenize the text into words\n",
    "    tokens = text.split()\n",
    "    \n",
    "    # Apply POS tagging and lemmatize each word\n",
    "    tokens = [wn.lemmatize(word, get_wordnet_pos(word)) for word in tokens]\n",
    "    \n",
    "    # Rejoin the tokens into a single string\n",
    "    return tokens\n"
   ]
  },
  {
   "cell_type": "code",
   "execution_count": 20,
   "metadata": {},
   "outputs": [
    {
     "ename": "LookupError",
     "evalue": "\n**********************************************************************\n  Resource \u001b[93maveraged_perceptron_tagger_eng\u001b[0m not found.\n  Please use the NLTK Downloader to obtain the resource:\n\n  \u001b[31m>>> import nltk\n  >>> nltk.download('averaged_perceptron_tagger_eng')\n  \u001b[0m\n  For more information see: https://www.nltk.org/data.html\n\n  Attempted to load \u001b[93mtaggers/averaged_perceptron_tagger_eng/\u001b[0m\n\n  Searched in:\n    - '/Users/Dylan/nltk_data'\n    - '/Users/Dylan/Documents/IND5003/nltk_data'\n    - '/Users/Dylan/Documents/IND5003/share/nltk_data'\n    - '/Users/Dylan/Documents/IND5003/lib/nltk_data'\n    - '/usr/share/nltk_data'\n    - '/usr/local/share/nltk_data'\n    - '/usr/lib/nltk_data'\n    - '/usr/local/lib/nltk_data'\n**********************************************************************\n",
     "output_type": "error",
     "traceback": [
      "\u001b[0;31m---------------------------------------------------------------------------\u001b[0m",
      "\u001b[0;31mLookupError\u001b[0m                               Traceback (most recent call last)",
      "Cell \u001b[0;32mIn[20], line 5\u001b[0m\n\u001b[1;32m      2\u001b[0m example_text \u001b[38;5;241m=\u001b[39m \u001b[38;5;124m\"\u001b[39m\u001b[38;5;124mThis Lou pai loves strippers as side quest to helping Jeff Skiling.\u001b[39m\u001b[38;5;124m\"\u001b[39m\n\u001b[1;32m      4\u001b[0m \u001b[38;5;66;03m# Clean and lemmatize the text\u001b[39;00m\n\u001b[0;32m----> 5\u001b[0m cleaned_text \u001b[38;5;241m=\u001b[39m \u001b[43mclean_the_mails\u001b[49m\u001b[43m(\u001b[49m\u001b[43mexample_text\u001b[49m\u001b[43m)\u001b[49m\n\u001b[1;32m      7\u001b[0m \u001b[38;5;28mprint\u001b[39m(\u001b[38;5;124m\"\u001b[39m\u001b[38;5;124mOriginal text:\u001b[39m\u001b[38;5;124m\"\u001b[39m, example_text)\n\u001b[1;32m      8\u001b[0m \u001b[38;5;28mprint\u001b[39m(\u001b[38;5;124m\"\u001b[39m\u001b[38;5;124mCleaned and lemmatized text:\u001b[39m\u001b[38;5;124m\"\u001b[39m, cleaned_text)\n",
      "Cell \u001b[0;32mIn[18], line 13\u001b[0m, in \u001b[0;36mclean_the_mails\u001b[0;34m(text)\u001b[0m\n\u001b[1;32m     10\u001b[0m tokens \u001b[38;5;241m=\u001b[39m text\u001b[38;5;241m.\u001b[39msplit()\n\u001b[1;32m     12\u001b[0m \u001b[38;5;66;03m# Apply POS tagging and lemmatize each word\u001b[39;00m\n\u001b[0;32m---> 13\u001b[0m tokens \u001b[38;5;241m=\u001b[39m \u001b[43m[\u001b[49m\u001b[43mwn\u001b[49m\u001b[38;5;241;43m.\u001b[39;49m\u001b[43mlemmatize\u001b[49m\u001b[43m(\u001b[49m\u001b[43mword\u001b[49m\u001b[43m,\u001b[49m\u001b[43m \u001b[49m\u001b[43mget_wordnet_pos\u001b[49m\u001b[43m(\u001b[49m\u001b[43mword\u001b[49m\u001b[43m)\u001b[49m\u001b[43m)\u001b[49m\u001b[43m \u001b[49m\u001b[38;5;28;43;01mfor\u001b[39;49;00m\u001b[43m \u001b[49m\u001b[43mword\u001b[49m\u001b[43m \u001b[49m\u001b[38;5;129;43;01min\u001b[39;49;00m\u001b[43m \u001b[49m\u001b[43mtokens\u001b[49m\u001b[43m]\u001b[49m\n\u001b[1;32m     15\u001b[0m \u001b[38;5;66;03m# Rejoin the tokens into a single string\u001b[39;00m\n\u001b[1;32m     16\u001b[0m \u001b[38;5;28;01mreturn\u001b[39;00m tokens\n",
      "Cell \u001b[0;32mIn[18], line 13\u001b[0m, in \u001b[0;36m<listcomp>\u001b[0;34m(.0)\u001b[0m\n\u001b[1;32m     10\u001b[0m tokens \u001b[38;5;241m=\u001b[39m text\u001b[38;5;241m.\u001b[39msplit()\n\u001b[1;32m     12\u001b[0m \u001b[38;5;66;03m# Apply POS tagging and lemmatize each word\u001b[39;00m\n\u001b[0;32m---> 13\u001b[0m tokens \u001b[38;5;241m=\u001b[39m [wn\u001b[38;5;241m.\u001b[39mlemmatize(word, \u001b[43mget_wordnet_pos\u001b[49m\u001b[43m(\u001b[49m\u001b[43mword\u001b[49m\u001b[43m)\u001b[49m) \u001b[38;5;28;01mfor\u001b[39;00m word \u001b[38;5;129;01min\u001b[39;00m tokens]\n\u001b[1;32m     15\u001b[0m \u001b[38;5;66;03m# Rejoin the tokens into a single string\u001b[39;00m\n\u001b[1;32m     16\u001b[0m \u001b[38;5;28;01mreturn\u001b[39;00m tokens\n",
      "Cell \u001b[0;32mIn[17], line 15\u001b[0m, in \u001b[0;36mget_wordnet_pos\u001b[0;34m(word)\u001b[0m\n\u001b[1;32m     13\u001b[0m \u001b[38;5;28;01mdef\u001b[39;00m \u001b[38;5;21mget_wordnet_pos\u001b[39m(word):\n\u001b[1;32m     14\u001b[0m \u001b[38;5;250m    \u001b[39m\u001b[38;5;124;03m\"\"\"Get POS tag for lemmatization from NLTK's tag\"\"\"\u001b[39;00m\n\u001b[0;32m---> 15\u001b[0m     tag \u001b[38;5;241m=\u001b[39m \u001b[43mnltk\u001b[49m\u001b[38;5;241;43m.\u001b[39;49m\u001b[43mpos_tag\u001b[49m\u001b[43m(\u001b[49m\u001b[43m[\u001b[49m\u001b[43mword\u001b[49m\u001b[43m]\u001b[49m\u001b[43m)\u001b[49m[\u001b[38;5;241m0\u001b[39m][\u001b[38;5;241m1\u001b[39m][\u001b[38;5;241m0\u001b[39m]\u001b[38;5;241m.\u001b[39mupper()\n\u001b[1;32m     16\u001b[0m     tag_dict \u001b[38;5;241m=\u001b[39m {\u001b[38;5;124m\"\u001b[39m\u001b[38;5;124mJ\u001b[39m\u001b[38;5;124m\"\u001b[39m: wordnet\u001b[38;5;241m.\u001b[39mADJ,  \u001b[38;5;66;03m# Adjective\u001b[39;00m\n\u001b[1;32m     17\u001b[0m                 \u001b[38;5;124m\"\u001b[39m\u001b[38;5;124mN\u001b[39m\u001b[38;5;124m\"\u001b[39m: wordnet\u001b[38;5;241m.\u001b[39mNOUN, \u001b[38;5;66;03m# Noun\u001b[39;00m\n\u001b[1;32m     18\u001b[0m                 \u001b[38;5;124m\"\u001b[39m\u001b[38;5;124mV\u001b[39m\u001b[38;5;124m\"\u001b[39m: wordnet\u001b[38;5;241m.\u001b[39mVERB, \u001b[38;5;66;03m# Verb\u001b[39;00m\n\u001b[1;32m     19\u001b[0m                 \u001b[38;5;124m\"\u001b[39m\u001b[38;5;124mR\u001b[39m\u001b[38;5;124m\"\u001b[39m: wordnet\u001b[38;5;241m.\u001b[39mADV}  \u001b[38;5;66;03m# Adverb\u001b[39;00m\n\u001b[1;32m     20\u001b[0m     \u001b[38;5;28;01mreturn\u001b[39;00m tag_dict\u001b[38;5;241m.\u001b[39mget(tag, wordnet\u001b[38;5;241m.\u001b[39mNOUN)\n",
      "File \u001b[0;32m~/Documents/IND5003/lib/python3.11/site-packages/nltk/tag/__init__.py:168\u001b[0m, in \u001b[0;36mpos_tag\u001b[0;34m(tokens, tagset, lang)\u001b[0m\n\u001b[1;32m    143\u001b[0m \u001b[38;5;28;01mdef\u001b[39;00m \u001b[38;5;21mpos_tag\u001b[39m(tokens, tagset\u001b[38;5;241m=\u001b[39m\u001b[38;5;28;01mNone\u001b[39;00m, lang\u001b[38;5;241m=\u001b[39m\u001b[38;5;124m\"\u001b[39m\u001b[38;5;124meng\u001b[39m\u001b[38;5;124m\"\u001b[39m):\n\u001b[1;32m    144\u001b[0m \u001b[38;5;250m    \u001b[39m\u001b[38;5;124;03m\"\"\"\u001b[39;00m\n\u001b[1;32m    145\u001b[0m \u001b[38;5;124;03m    Use NLTK's currently recommended part of speech tagger to\u001b[39;00m\n\u001b[1;32m    146\u001b[0m \u001b[38;5;124;03m    tag the given list of tokens.\u001b[39;00m\n\u001b[0;32m   (...)\u001b[0m\n\u001b[1;32m    166\u001b[0m \u001b[38;5;124;03m    :rtype: list(tuple(str, str))\u001b[39;00m\n\u001b[1;32m    167\u001b[0m \u001b[38;5;124;03m    \"\"\"\u001b[39;00m\n\u001b[0;32m--> 168\u001b[0m     tagger \u001b[38;5;241m=\u001b[39m \u001b[43m_get_tagger\u001b[49m\u001b[43m(\u001b[49m\u001b[43mlang\u001b[49m\u001b[43m)\u001b[49m\n\u001b[1;32m    169\u001b[0m     \u001b[38;5;28;01mreturn\u001b[39;00m _pos_tag(tokens, tagset, tagger, lang)\n",
      "File \u001b[0;32m~/Documents/IND5003/lib/python3.11/site-packages/nltk/tag/__init__.py:110\u001b[0m, in \u001b[0;36m_get_tagger\u001b[0;34m(lang)\u001b[0m\n\u001b[1;32m    108\u001b[0m     tagger \u001b[38;5;241m=\u001b[39m PerceptronTagger(lang\u001b[38;5;241m=\u001b[39mlang)\n\u001b[1;32m    109\u001b[0m \u001b[38;5;28;01melse\u001b[39;00m:\n\u001b[0;32m--> 110\u001b[0m     tagger \u001b[38;5;241m=\u001b[39m \u001b[43mPerceptronTagger\u001b[49m\u001b[43m(\u001b[49m\u001b[43m)\u001b[49m\n\u001b[1;32m    111\u001b[0m \u001b[38;5;28;01mreturn\u001b[39;00m tagger\n",
      "File \u001b[0;32m~/Documents/IND5003/lib/python3.11/site-packages/nltk/tag/perceptron.py:183\u001b[0m, in \u001b[0;36mPerceptronTagger.__init__\u001b[0;34m(self, load, lang)\u001b[0m\n\u001b[1;32m    181\u001b[0m \u001b[38;5;28mself\u001b[39m\u001b[38;5;241m.\u001b[39mclasses \u001b[38;5;241m=\u001b[39m \u001b[38;5;28mset\u001b[39m()\n\u001b[1;32m    182\u001b[0m \u001b[38;5;28;01mif\u001b[39;00m load:\n\u001b[0;32m--> 183\u001b[0m     \u001b[38;5;28;43mself\u001b[39;49m\u001b[38;5;241;43m.\u001b[39;49m\u001b[43mload_from_json\u001b[49m\u001b[43m(\u001b[49m\u001b[43mlang\u001b[49m\u001b[43m)\u001b[49m\n",
      "File \u001b[0;32m~/Documents/IND5003/lib/python3.11/site-packages/nltk/tag/perceptron.py:273\u001b[0m, in \u001b[0;36mPerceptronTagger.load_from_json\u001b[0;34m(self, lang)\u001b[0m\n\u001b[1;32m    271\u001b[0m \u001b[38;5;28;01mdef\u001b[39;00m \u001b[38;5;21mload_from_json\u001b[39m(\u001b[38;5;28mself\u001b[39m, lang\u001b[38;5;241m=\u001b[39m\u001b[38;5;124m\"\u001b[39m\u001b[38;5;124meng\u001b[39m\u001b[38;5;124m\"\u001b[39m):\n\u001b[1;32m    272\u001b[0m     \u001b[38;5;66;03m# Automatically find path to the tagger if location is not specified.\u001b[39;00m\n\u001b[0;32m--> 273\u001b[0m     loc \u001b[38;5;241m=\u001b[39m \u001b[43mfind\u001b[49m\u001b[43m(\u001b[49m\u001b[38;5;124;43mf\u001b[39;49m\u001b[38;5;124;43m\"\u001b[39;49m\u001b[38;5;124;43mtaggers/averaged_perceptron_tagger_\u001b[39;49m\u001b[38;5;132;43;01m{\u001b[39;49;00m\u001b[43mlang\u001b[49m\u001b[38;5;132;43;01m}\u001b[39;49;00m\u001b[38;5;124;43m/\u001b[39;49m\u001b[38;5;124;43m\"\u001b[39;49m\u001b[43m)\u001b[49m\n\u001b[1;32m    274\u001b[0m     \u001b[38;5;28;01mwith\u001b[39;00m \u001b[38;5;28mopen\u001b[39m(loc \u001b[38;5;241m+\u001b[39m TAGGER_JSONS[lang][\u001b[38;5;124m\"\u001b[39m\u001b[38;5;124mweights\u001b[39m\u001b[38;5;124m\"\u001b[39m]) \u001b[38;5;28;01mas\u001b[39;00m fin:\n\u001b[1;32m    275\u001b[0m         \u001b[38;5;28mself\u001b[39m\u001b[38;5;241m.\u001b[39mmodel\u001b[38;5;241m.\u001b[39mweights \u001b[38;5;241m=\u001b[39m json\u001b[38;5;241m.\u001b[39mload(fin)\n",
      "File \u001b[0;32m~/Documents/IND5003/lib/python3.11/site-packages/nltk/data.py:579\u001b[0m, in \u001b[0;36mfind\u001b[0;34m(resource_name, paths)\u001b[0m\n\u001b[1;32m    577\u001b[0m sep \u001b[38;5;241m=\u001b[39m \u001b[38;5;124m\"\u001b[39m\u001b[38;5;124m*\u001b[39m\u001b[38;5;124m\"\u001b[39m \u001b[38;5;241m*\u001b[39m \u001b[38;5;241m70\u001b[39m\n\u001b[1;32m    578\u001b[0m resource_not_found \u001b[38;5;241m=\u001b[39m \u001b[38;5;124mf\u001b[39m\u001b[38;5;124m\"\u001b[39m\u001b[38;5;130;01m\\n\u001b[39;00m\u001b[38;5;132;01m{\u001b[39;00msep\u001b[38;5;132;01m}\u001b[39;00m\u001b[38;5;130;01m\\n\u001b[39;00m\u001b[38;5;132;01m{\u001b[39;00mmsg\u001b[38;5;132;01m}\u001b[39;00m\u001b[38;5;130;01m\\n\u001b[39;00m\u001b[38;5;132;01m{\u001b[39;00msep\u001b[38;5;132;01m}\u001b[39;00m\u001b[38;5;130;01m\\n\u001b[39;00m\u001b[38;5;124m\"\u001b[39m\n\u001b[0;32m--> 579\u001b[0m \u001b[38;5;28;01mraise\u001b[39;00m \u001b[38;5;167;01mLookupError\u001b[39;00m(resource_not_found)\n",
      "\u001b[0;31mLookupError\u001b[0m: \n**********************************************************************\n  Resource \u001b[93maveraged_perceptron_tagger_eng\u001b[0m not found.\n  Please use the NLTK Downloader to obtain the resource:\n\n  \u001b[31m>>> import nltk\n  >>> nltk.download('averaged_perceptron_tagger_eng')\n  \u001b[0m\n  For more information see: https://www.nltk.org/data.html\n\n  Attempted to load \u001b[93mtaggers/averaged_perceptron_tagger_eng/\u001b[0m\n\n  Searched in:\n    - '/Users/Dylan/nltk_data'\n    - '/Users/Dylan/Documents/IND5003/nltk_data'\n    - '/Users/Dylan/Documents/IND5003/share/nltk_data'\n    - '/Users/Dylan/Documents/IND5003/lib/nltk_data'\n    - '/usr/share/nltk_data'\n    - '/usr/local/share/nltk_data'\n    - '/usr/lib/nltk_data'\n    - '/usr/local/lib/nltk_data'\n**********************************************************************\n"
     ]
    }
   ],
   "source": [
    "# Example sentence to clean and lemmatize\n",
    "example_text = \"This Lou pai loves strippers as side quest to helping Jeff Skiling.\"\n",
    "\n",
    "# Clean and lemmatize the text\n",
    "cleaned_text = clean_the_mails(example_text)\n",
    "\n",
    "print(\"Original text:\", example_text)\n",
    "print(\"Cleaned and lemmatized text:\", cleaned_text)\n"
   ]
  },
  {
   "cell_type": "code",
   "execution_count": 63,
   "metadata": {},
   "outputs": [],
   "source": [
    "# # Applying the clean mail function to the Body column and import to csv for future usage\n",
    "\n",
    "# # Apply the clean_the_mails function to the 'Body' column of your email dataset\n",
    "# enron_cleaned_emails_body_unique['Cleaned_Body'] = enron_cleaned_emails_body_unique['Body'].apply(clean_the_mails)\n",
    "\n",
    "# # Save the DataFrame with the cleaned data to a CSV file for future use\n",
    "# enron_cleaned_emails_body_unique.to_csv('enron_cleaned_emails_with_cleaned_body.csv', index=False)\n",
    "\n",
    "# # Display the first few rows of the DataFrame to inspect the cleaned and lemmatized results\n",
    "# enron_cleaned_emails_body_unique[['Body', 'Cleaned_Body']].head()"
   ]
  },
  {
   "cell_type": "markdown",
   "metadata": {},
   "source": [
    "## Splitting into Different Time Frames"
   ]
  },
  {
   "cell_type": "code",
   "execution_count": 21,
   "metadata": {},
   "outputs": [],
   "source": [
    "# Import the cleaned data from the CSV file\n",
    "enron_corpus = pd.read_csv('/Users/Dylan/Documents/IND5003/Projects/enron_cleaned_emails_with_cleaned_body.csv')"
   ]
  },
  {
   "cell_type": "code",
   "execution_count": 22,
   "metadata": {},
   "outputs": [
    {
     "name": "stdout",
     "output_type": "stream",
     "text": [
      "From                         object\n",
      "To                           object\n",
      "Date            datetime64[ns, UTC]\n",
      "Subject                      object\n",
      "Body                         object\n",
      "Year                          int64\n",
      "Month                         int64\n",
      "Cleaned_Body                 object\n",
      "dtype: object\n"
     ]
    }
   ],
   "source": [
    "# Change enron corpus dataframe Date column to datetime object\n",
    "enron_corpus['Date'] = pd.to_datetime(enron_corpus['Date'], errors='coerce', utc=True)\n",
    "\n",
    "# Print dtypes of enron corpus dataframe\n",
    "print(enron_corpus.dtypes)"
   ]
  },
  {
   "cell_type": "code",
   "execution_count": 23,
   "metadata": {},
   "outputs": [
    {
     "name": "stdout",
     "output_type": "stream",
     "text": [
      "(33981, 8)\n",
      "(157792, 8)\n",
      "(61382, 8)\n"
     ]
    }
   ],
   "source": [
    "# Divide the enron_corpus into 3 dataframes\n",
    "\n",
    "# The first dataframe for dates between June 1999 and August 2000 (Pre-crisis)\n",
    "enron_pre_crisis = enron_corpus[(enron_corpus['Date'] >= '1999-06-01') & (enron_corpus['Date'] <= '2000-08-31')]\n",
    "\n",
    "# The second dataframe for dates between Sep 2000 to Oct 2001 (During crisis)\n",
    "enron_during_crisis = enron_corpus[(enron_corpus['Date'] >= '2000-09-01') & (enron_corpus['Date'] <= '2001-10-31')]\n",
    "\n",
    "# The third dataframe for dates between November 2001 to June 2002 (Post-crisis)\n",
    "enron_post_crisis = enron_corpus[(enron_corpus['Date'] >= '2001-11-01') & (enron_corpus['Date'] <= '2002-06-30')]\n",
    "\n",
    "# Print the shape of each dataframe\n",
    "print(enron_pre_crisis.shape)\n",
    "print(enron_during_crisis.shape)\n",
    "print(enron_post_crisis.shape)\n"
   ]
  },
  {
   "cell_type": "markdown",
   "metadata": {},
   "source": [
    "# Q1 Topic Identification Across Time\n",
    "\n",
    "Use LDA to find the most common topics across time under each of the pre-processed corpus under each period (pre, during, post crisis)"
   ]
  },
  {
   "cell_type": "code",
   "execution_count": 76,
   "metadata": {},
   "outputs": [],
   "source": [
    "# import tokenized corpus from local folder\n"
   ]
  },
  {
   "cell_type": "markdown",
   "metadata": {},
   "source": [
    "# Q2 ANALYSIS TESTING"
   ]
  },
  {
   "cell_type": "markdown",
   "metadata": {},
   "source": [
    "## Choosing a Sentiment Analysis Model"
   ]
  },
  {
   "cell_type": "markdown",
   "metadata": {},
   "source": [
    "#### 1st Model of Choice is cardiffnlp Twitter RoBERTa model\n",
    "- Where: Hugging Face\n",
    "- Why: Trained on Twitter dataset which can recognise informal, formal contexts and even sacarcm. "
   ]
  },
  {
   "cell_type": "code",
   "execution_count": 24,
   "metadata": {},
   "outputs": [
    {
     "name": "stderr",
     "output_type": "stream",
     "text": [
      "No model was supplied, defaulted to openai-community/gpt2 and revision 607a30d (https://huggingface.co/openai-community/gpt2).\n",
      "Using a pipeline without specifying a model name and revision in production is not recommended.\n"
     ]
    },
    {
     "name": "stderr",
     "output_type": "stream",
     "text": [
      "Hardware accelerator e.g. GPU is available in the environment, but no `device` argument is passed to the `Pipeline` object. Model will be on CPU.\n"
     ]
    }
   ],
   "source": [
    "# ! Create a text generation pipeline using the default model from huggingface\n",
    "generator = pipeline(\"text-generation\")"
   ]
  },
  {
   "cell_type": "code",
   "execution_count": 25,
   "metadata": {},
   "outputs": [
    {
     "name": "stderr",
     "output_type": "stream",
     "text": [
      "Some weights of the model checkpoint at cardiffnlp/twitter-roberta-base-sentiment-latest were not used when initializing RobertaForSequenceClassification: ['roberta.pooler.dense.bias', 'roberta.pooler.dense.weight']\n",
      "- This IS expected if you are initializing RobertaForSequenceClassification from the checkpoint of a model trained on another task or with another architecture (e.g. initializing a BertForSequenceClassification model from a BertForPreTraining model).\n",
      "- This IS NOT expected if you are initializing RobertaForSequenceClassification from the checkpoint of a model that you expect to be exactly identical (initializing a BertForSequenceClassification model from a BertForSequenceClassification model).\n",
      "Hardware accelerator e.g. GPU is available in the environment, but no `device` argument is passed to the `Pipeline` object. Model will be on CPU.\n"
     ]
    }
   ],
   "source": [
    "# Load the sentiment analysis pipeline with the cardiffnlp Twitter RoBERTa model\n",
    "classifier = pipeline(\"sentiment-analysis\", model=\"cardiffnlp/twitter-roberta-base-sentiment-latest\")\n"
   ]
  },
  {
   "cell_type": "code",
   "execution_count": 79,
   "metadata": {},
   "outputs": [],
   "source": [
    "# classifier([\"I hate Ken Lay and that scumbag Jeff Skilling!\", \"I absolutely trust Jeff Skiling with my 401k.\"])\n",
    "# This was from the original DistilBERT model, the sentiment analysis model has been changed to the cardiffnlp/twitter-roberta-base-sentiment-latest model"
   ]
  },
  {
   "cell_type": "code",
   "execution_count": 26,
   "metadata": {},
   "outputs": [
    {
     "data": {
      "text/plain": [
       "[{'label': 'negative', 'score': 0.7734254002571106},\n",
       " {'label': 'positive', 'score': 0.8728737235069275},\n",
       " {'label': 'positive', 'score': 0.9846312403678894},\n",
       " {'label': 'negative', 'score': 0.6821617484092712}]"
      ]
     },
     "execution_count": 26,
     "metadata": {},
     "output_type": "execute_result"
    }
   ],
   "source": [
    "# I like this model better because it seems to take into account sacarsm and context better than the original model\n",
    "classifier([\"I 'love' Ken Lay and that scumbag Jeff Skilling!\", \"I absolutely trust Jeff Skiling with my 401k.\", \"Enron is awesome!\", \"Lou pai that cheater loves strippers\"])"
   ]
  },
  {
   "cell_type": "markdown",
   "metadata": {},
   "source": [
    "### Test the Twitter Model on Enron Dataset\n",
    "* Determine if the model requires finetuning "
   ]
  },
  {
   "cell_type": "code",
   "execution_count": 27,
   "metadata": {},
   "outputs": [
    {
     "name": "stdout",
     "output_type": "stream",
     "text": [
      "0    ['john', 'im', 'not', 'really', 'sure', 'what'...\n",
      "1    ['i', 'suckhope', 'youve', 'make', 'more', 'mo...\n",
      "2    ['hi', 'follow', 'the', 'email', 'you', 'have'...\n",
      "3    ['conference', 'room', 'tbd', 'this', 'meeting...\n",
      "4    ['mike', 'i', 'have', 'their', 'trader', 'come...\n",
      "5    ['sender', 'articlesemailmslganytimescom', 're...\n",
      "6    ['current', 'note', 'user', 'reason', 'for', '...\n",
      "7    ['the', 'attach', 'report', 'contains', 'an', ...\n",
      "8    ['johnmike', 'hi', 'this', 'be', 'the', 'list'...\n",
      "9    ['the', 'information', 'contain', 'herein', 'b...\n",
      "Name: Cleaned_Body, dtype: object\n"
     ]
    }
   ],
   "source": [
    "sample_emails = enron_corpus['Cleaned_Body'].head(10)\n",
    "print(sample_emails)"
   ]
  },
  {
   "cell_type": "code",
   "execution_count": 28,
   "metadata": {},
   "outputs": [],
   "source": [
    "# Join tokens from sample_emails back into a string\n",
    "sample_emails = sample_emails.apply(lambda x: ' '.join(x.split()[:512])) # This is because the model chosen cannot handle more than 512 tokens. Hence emails may be too long"
   ]
  },
  {
   "cell_type": "code",
   "execution_count": 29,
   "metadata": {},
   "outputs": [],
   "source": [
    "# Test the sentiment analysis model on the sample emails\n",
    "sample_sentiments = classifier(sample_emails.tolist(), truncation = True, max_length = 512)"
   ]
  },
  {
   "cell_type": "code",
   "execution_count": 152,
   "metadata": {},
   "outputs": [
    {
     "name": "stdout",
     "output_type": "stream",
     "text": [
      "Email 1:\n",
      "Sentiment Prediction: neutral\n",
      "Confidence Score: 0.8739973902702332\n",
      "----------------------------------------\n",
      "Email 2:\n",
      "Sentiment Prediction: neutral\n",
      "Confidence Score: 0.7745579481124878\n",
      "----------------------------------------\n",
      "Email 3:\n",
      "Sentiment Prediction: neutral\n",
      "Confidence Score: 0.9031914472579956\n",
      "----------------------------------------\n",
      "Email 4:\n",
      "Sentiment Prediction: neutral\n",
      "Confidence Score: 0.8824588656425476\n",
      "----------------------------------------\n",
      "Email 5:\n",
      "Sentiment Prediction: neutral\n",
      "Confidence Score: 0.8684152960777283\n",
      "----------------------------------------\n",
      "Email 6:\n",
      "Sentiment Prediction: neutral\n",
      "Confidence Score: 0.9017876982688904\n",
      "----------------------------------------\n",
      "Email 7:\n",
      "Sentiment Prediction: neutral\n",
      "Confidence Score: 0.8985042572021484\n",
      "----------------------------------------\n",
      "Email 8:\n",
      "Sentiment Prediction: neutral\n",
      "Confidence Score: 0.8956636786460876\n",
      "----------------------------------------\n",
      "Email 9:\n",
      "Sentiment Prediction: neutral\n",
      "Confidence Score: 0.9005221724510193\n",
      "----------------------------------------\n",
      "Email 10:\n",
      "Sentiment Prediction: neutral\n",
      "Confidence Score: 0.8671610951423645\n",
      "----------------------------------------\n"
     ]
    }
   ],
   "source": [
    "# # Display the results\n",
    "# for i, sentiment in enumerate(sample_sentiments):\n",
    "#     print(f\"Email {i + 1}:\")\n",
    "#     # print(\"Cleaned Body:\", ' '.join(sample_emails.iloc[i]))\n",
    "#     print(\"Sentiment Prediction:\", sentiment['label'])\n",
    "#     print(\"Confidence Score:\", sentiment['score'])\n",
    "#     print(\"-\" * 40)"
   ]
  },
  {
   "cell_type": "code",
   "execution_count": 158,
   "metadata": {},
   "outputs": [
    {
     "name": "stdout",
     "output_type": "stream",
     "text": [
      "Email 1:\n",
      "John:\n",
      "?\n",
      "I'm not really sure what happened between us.? I was  under the impression \n",
      "after my visit to Houston that we were about to enter into  a trial agreement \n",
      "for my advisory work.? Somehow,?this never  occurred.? Did I say or do \n",
      "something wrong to screw this  up???\n",
      "?\n",
      "I don't know if you've blown this whole thing off, but I still  hope you are \n",
      "interested in trying?to create an arrangement.? As a  courtesy, here is my \n",
      "report from this past weekend.? If you are no longer  interested in my work, \n",
      "please tell me so.??Best wishes,\n",
      "?\n",
      "Mark Sagel\n",
      "Psytech Analytics\n",
      "(410)308-0245? \n",
      " - energy2000-1112.doc\n",
      "----------------------------------------\n",
      "Email 2:\n",
      "i suck-hope youve made more money in natgas last 3 weeks than i have. mkt shud\n",
      "be getting bearish feb forward-cuz we already have the weather upon us-fuel\n",
      "switching and the rest shud invert the whole curve not just dec cash to jan \n",
      "and\n",
      "feb forward???? have a good weekend john\n",
      "\n",
      "----------------------------------------\n",
      "Email 3:\n",
      " Hi,\n",
      "\n",
      "\n",
      "  Following the e-mail you have received yesterday concerning\n",
      "the new WTI bullet swap contracts, we would like to summarize what we have\n",
      "done on the ICE system yesterday evening:\n",
      "\n",
      "  -Deleted WTI monthly time spreads\n",
      "  -Deleted WTI/Brent monthly diff spreads (spread with\n",
      "legging)\n",
      "  -Deleted 1% NYH Harbor Fuel Oil Crack monthly (spread with\n",
      "legging)\n",
      "\n",
      "  -Added WTI/Brent monthly diff spreads (spread with NO\n",
      "legging)\n",
      "  -Added 1% NYH Harbor Fuel Oil Crack monthly (spread with NO\n",
      "legging)\n",
      "\n",
      " Unfortunately the WTI/Brent and the 1% NYH Fuel Oil Crack contracts\n",
      "(with the legging functionality) have been removed from your portfolios. You\n",
      "will need to add  the first four nearby months' contracts to your\n",
      "portfolios by going to Admin / Manage Portfolios / Edit your portfolio....\n",
      "\n",
      " Please do not hesitate to contact us is you have any question:\n",
      " Helpdesk on +1 770 738 2101 (US)\n",
      " Stephanie Trabia: +44 207 484 5546 (UK)\n",
      "\n",
      " Regards,\n",
      "\n",
      " Stephanie Trabia\n",
      " Marketing Manager\n",
      " IntercontinentalExchange\n",
      " Tel +44 207 484 5546\n",
      " Fax +44 207 484 5100\n",
      " Mob +44 77 33 261 268\n",
      " stephanie.trabia@intcx.com\n",
      "----------------------------------------\n",
      "Email 4:\n",
      "Conference Room TBD.  \n",
      "\n",
      "This meeting will be to discuss opportunity for EBS to provide the network \n",
      "for BBI's well-site reporting systems to send their data across.  Maybe \n",
      "VBN/IPNetConnect application?\n",
      "----------------------------------------\n",
      "Email 5:\n",
      "Mike- I have their trader coming into the office tomorrow- they are a macro \n",
      "fund (they manage Harvard's endowment fund) that trades commodities- mostly \n",
      "crude and metals.  I want to get them into some gas and power trades.  \n",
      "Specifically, I want to get them into the short Rockies trade for the summer \n",
      "that we have Tudor in.  \n",
      "\n",
      "Johnny recommended I have you speak to them- can you give me a few minutes \n",
      "during the day to talk to them about the west in general.\n",
      "\n",
      "I have him in all day- we are sitting with Mike Roberts to do the weather \n",
      "update from 6 am-7:30 - would be great if we could get you between 7:30 and \n",
      "8:30 am.  If not, let me know when is good- Ina will know where I am\n",
      "\n",
      "Rgds,\n",
      "Caroline\n",
      "cell 917-324 1999\n",
      "----------------------------------------\n",
      "Email 6:\n",
      ">Sender: articles-email@ms1.lga2.nytimes.com\n",
      ">Reply-To: judgergm@swbell.com\n",
      ">From: judgergm@swbell.com\n",
      ">To: klarnold@flash.net\n",
      ">Subject: NYTimes.com Article: Suspended Rabbi Quits Seminary Presidency\n",
      ">Date: Tue, 12 Dec 2000 00:02:21 -0500 (EST)\n",
      ">\n",
      ">This article from NYTimes.com\n",
      ">has been sent to you by Bob Moss judgergm@swbell.com.\n",
      ">\n",
      ">Karen\n",
      ">\n",
      ">\n",
      ">\n",
      ">Bob Moss\n",
      ">judgergm@swbell.com\n",
      ">\n",
      ">/-------------------- advertisement -----------------------\\\n",
      ">\n",
      ">\n",
      ">LOOKING FOR A TRULY HIGH-SPEED INTERNET EXPERIENCE?Then visit Alcatel.com\n",
      ">and see what makes us theeworld's leading supplier of DSL\n",
      ">solutions..Alcatel, world leader in DSL\n",
      ">solutions..http://www.nytimes.com/ads/email/alcatel/index.html\n",
      ">\n",
      ">\\----------------------------------------------------------/\n",
      ">\n",
      ">Suspended Rabbi Quits Seminary Presidency\n",
      ">http://www.nytimes.com/2000/12/07/national/07RABB.html\n",
      ">\n",
      ">December 7, 2000\n",
      ">\n",
      ">By GUSTAV NIEBUHR\n",
      ">\n",
      ">Rabbi Sheldon Zimmerman, a leading figure in Judaism's Reform\n",
      ">movement as president of its seminary, has resigned from his job\n",
      ">after being suspended by the movement's rabbinic organization for\n",
      ">having entered into \"personal relationships\" in the past that the\n",
      ">organization said violated its ethical code.\n",
      ">\n",
      "> Rabbi Zimmerman, president of Hebrew Union College-Jewish\n",
      ">Institute of Learning, where he had been considered a charismatic\n",
      ">and innovative leader, quit that post on Monday, after the Central\n",
      ">Conference of American Rabbis suspended his rabbinical functions\n",
      ">for at least two years, college and conference officials said.\n",
      ">\n",
      "> In a statement, the college said the suspension followed an\n",
      ">investigation by the conference into \"personal relationships\" of\n",
      ">Rabbi Zimmerman, which it did not specify other than to say that\n",
      ">they predated his appointment as president in January 1996. Rabbi\n",
      ">Zimmerman was the seventh president of the college, which was\n",
      ">founded in 1875.\n",
      ">\n",
      "> Rabbi Paul J. Menitoff, the conference's executive vice president,\n",
      ">said its board approved the penalty on Monday, based on a\n",
      ">recommendation by its ethics committee, which looks into complaints\n",
      ">about the conference's 1,700 members.\n",
      ">\n",
      "> Rabbi Menitoff said that conference rules prevented him from\n",
      ">discussing the case but that the board decided Rabbi Zimmerman had\n",
      ">violated a part of the ethics code, paragraph 2A, which deals with\n",
      ">sexual conduct.\n",
      ">\n",
      "> It is included in the section of the code on \"personal\n",
      ">responsibility,\" which covers such matters as family life, personal\n",
      ">honesty and finances. It calls on rabbis \"to be scrupulous in\n",
      ">avoiding even the appearance of sexual misconduct, whether by\n",
      ">taking advantage of our position with those weaker than ourselves\n",
      ">or dependent on us or succumbing to the temptations of willing\n",
      ">adults.\"\n",
      ">\n",
      "> Hebrew Union, which trains men and women as rabbis and cantors and\n",
      ">in other graduate and professional fields, has 1,500 students on\n",
      ">campuses in Cincinnati, Los Angeles, New York and Jerusalem. Before\n",
      ">becoming president, Rabbi Zimmerman, 58, was senior rabbi of Temple\n",
      ">Emanu-El in Dallas from 1985 to 1995, and senior rabbi at Central\n",
      ">Synagogue in New York, from 1972 to 1985. He is married and has\n",
      ">four children. From 1993 to 1995, he was also the conference's\n",
      ">president.\n",
      ">\n",
      "> Rabbi Zimmerman's resignation was first reported yesterday in The\n",
      ">Cincinnati Enquirer and The Dallas Morning News.\n",
      ">\n",
      "> Efforts to reach him through the college and its officials were\n",
      ">unsuccessful. The college said it appointed its provost, Norman\n",
      ">Cohen, as acting president and would search for a permanent\n",
      ">replacement.\n",
      ">\n",
      "> Rabbi Menitoff said the conference followed \"the same process that\n",
      ">we'd follow with any rabbi in the conference in similar\n",
      ">circumstances.\" He said complaints against a rabbi are referred to\n",
      ">and investigated by the ethics committee. Depending on that\n",
      ">committee's findings, the conference may dismiss the complaint,\n",
      ">privately reprimand or publicly censure a rabbi or suspendn or\n",
      ">expel a rabbi.\n",
      ">\n",
      "> Rabbi Menitoff said the decision to suspend Rabbi Zimmerman was\n",
      ">\"very difficult and painful for everyone involved.\"\n",
      ">\n",
      "> Rabbi Eric H. Yoffie, president of the Union of American Hebrew\n",
      ">Congregations, the Reform movement's synagogue organization, said\n",
      ">Rabbi Zimmerman did not contest the findings or the judgment\n",
      ">against him but responded to the decision \"with great dignity.\"\n",
      ">\n",
      "> Rabbi Yoffie said that during his tenure as president, Rabbi\n",
      ">Zimmerman added younger scholars to the faculty and expanded the\n",
      ">college's Los Angeles branch so much that it will begin ordaining\n",
      ">rabbis in 2002.\n",
      ">\n",
      "> Another member of the conference, Rabbi A. James Rudin, emeritus\n",
      ">director of interreligious affairs at the American Jewish\n",
      ">Committee, said Rabbi Zimmerman's resignation was \"a real loss\" and\n",
      ">\"a shock to the movement.\"\n",
      ">\n",
      "> Hebrew Union's chairman, Burton Lehman, praised Rabbi Zimmerman as\n",
      ">\"a great, great leader.\" Mr. Lehman said that Rabbi Zimmerman's\n",
      ">resignation would \"have an impact\" but that the college was strong.\n",
      ">\n",
      "> \"Transitionally, we'll be fine,\" Mr. Lehman said. \"We have a\n",
      ">strong faculty that will carry this institution through this\n",
      ">tribulation.\"\n",
      ">\n",
      ">\n",
      ">\n",
      ">\n",
      ">The New York Times on the Web\n",
      ">http://www.nytimes.com\n",
      ">\n",
      ">/-----------------------------------------------------------------\\\n",
      ">\n",
      ">\n",
      ">Visit NYTimes.com for complete access to the\n",
      ">most authoritative news coverage on the Web,\n",
      ">updated throughout the day.\n",
      ">\n",
      ">Become a member today! It's free!\n",
      ">\n",
      ">http://www.nytimes.com?eta\n",
      ">\n",
      ">\n",
      ">\\-----------------------------------------------------------------/\n",
      ">\n",
      ">HOW TO ADVERTISE\n",
      ">---------------------------------\n",
      ">For information on advertising in e-mail newsletters\n",
      ">or other creative advertising opportunities with The\n",
      ">New York Times on the Web, please contact Alyson\n",
      ">Racer at alyson@nytimes.com or visit our online media\n",
      ">kit at http://www.nytimes.com/adinfo\n",
      ">\n",
      ">For general information about NYTimes.com, write to\n",
      ">help@nytimes.com.\n",
      ">\n",
      ">Copyright 2000 The New York Times Company\n",
      "----------------------------------------\n",
      "Email 7:\n",
      "Current Notes User:\n",
      "\n",
      "REASONS FOR USING OUTLOOK WEB ACCESS (OWA)\n",
      "\n",
      "1. Once your mailbox has been migrated from Notes to Outlook, the Outlook \n",
      "client will be configured on your computer.\n",
      "After migration of your mailbox, you will not be able to send or recieve mail \n",
      "via Notes, and you will not be able to start using Outlook until it is \n",
      "configured by the Outlook Migration team the morning after your mailbox is \n",
      "migrated.  During this period, you can use Outlook Web Access (OWA) via your \n",
      "web browser (Internet Explorer 5.0) to read and send mail.\n",
      "\n",
      "PLEASE NOTE:  Your calendar entries, personal address book, journals, and \n",
      "To-Do entries imported from Notes will not be available until the Outlook \n",
      "client is configured on your desktop.\n",
      "\n",
      "2. Remote access to your mailbox.\n",
      "After your Outlook client is configured, you can use Outlook Web Access (OWA) \n",
      "for remote access to your mailbox.\n",
      "\n",
      "PLEASE NOTE:  At this time, the OWA client is only accessible while \n",
      "connecting to the Enron network (LAN).  There are future plans to make OWA \n",
      "available from your home or when traveling abroad.\n",
      "\n",
      "HOW TO ACCESS OUTLOOK WEB ACCESS (OWA)\n",
      "\n",
      "Launch Internet Explorer 5.0, and in the address window type:  \n",
      "http://nahou-msowa01p/exchange/john.doe\n",
      "\n",
      "Substitute \"john.doe\" with your first and last name, then click ENTER.  You \n",
      "will be prompted with a sign in box as shown below.  Type in \"corp/your user \n",
      "id\" for the user name and your NT password to logon to OWA and click OK.  You \n",
      "will now be able to view your mailbox.\n",
      "\n",
      " \n",
      "\n",
      "PLEASE NOTE:  There are some subtle differences in the functionality between \n",
      "the Outlook and OWA clients.  You will not be able to do many of the things \n",
      "in OWA that you can do in Outlook.  Below is a brief list of *some* of the \n",
      "functions NOT available via OWA:\n",
      "\n",
      "Features NOT available using OWA:\n",
      "\n",
      "-  Tasks\n",
      "-  Journal\n",
      "-  Spell Checker\n",
      "-  Offline Use\n",
      "-  Printing Templates\n",
      "-  Reminders\n",
      "-  Timed Delivery\n",
      "-  Expiration\n",
      "-  Outlook Rules\n",
      "-  Voting, Message Flags and Message Recall\n",
      "-  Sharing Contacts with others\n",
      "-  Task Delegation\n",
      "-  Direct Resource Booking\n",
      "-  Personal Distribution Lists\n",
      "\n",
      "QUESTIONS OR CONCERNS?\n",
      "\n",
      "If you have questions or concerns using the OWA client, please contact the \n",
      "Outlook 2000 question and answer Mailbox at:\n",
      "\n",
      " Outlook.2000@enron.com\n",
      "\n",
      "Otherwise, you may contact the Resolution Center at:\n",
      "\n",
      " 713-853-1411\n",
      "\n",
      "Thank you,\n",
      "\n",
      "Outlook 2000 Migration Team\n",
      "----------------------------------------\n",
      "Email 8:\n",
      "The attached report contains an analysis of fuel switching capability. It \n",
      "also details one  of the current problems with EIA data. The EIA data  \n",
      "contains FERC form I data. Once generation is sold its fuel consumption is no \n",
      "longer reported to the DOE. Hence an analysis of the DOE cost  and quality of \n",
      "generation fuels is incomplete becasue of the lack of NUG data. WEFA gets \n",
      "around this by using 1998 FERC FORM I data. After 1998, there were \n",
      "significant sales of generation due to the ongoing legislation and \n",
      "deregulation at the state level.\n",
      "\n",
      "\n",
      " - NGM11_00.pdf\n",
      "----------------------------------------\n",
      "Email 9:\n",
      "John/Mike- Hi.. this is the list of people attending on thursday night.. the \n",
      "event starts at 9 pm  so we are likely to take our guests to dinner before \n",
      "(around 6:30-7)- will send details today.\n",
      "\n",
      "Friday- so far, we have you seeing:\n",
      "SAC Cap- coming to office after close Friday\n",
      "Catequil- we will pop over Friday\n",
      "Global Advisors- Danny Masters stopping by\n",
      "\n",
      "1) Per and Jean Sekse (Enron)\n",
      "2) Russ Dyk and Caroline Abramo (Enron)\n",
      "3) Jason Mraz and guest (Tudor Investments)\n",
      "4) Andrew Suckling and guest (Tudor Investments)\n",
      "5) Danny Masters and guest (Global Advisors UK)\n",
      "6) Steve Schmitz and guest (SAC Capital)\n",
      "7) Brian Copp and guest (SAC Capital)\n",
      "8) Andreas Hommert and guest (Catequil Asset Management)\n",
      "9) Rob Ellis and guest (Catequil Asset Management)\n",
      "10) Jason Hotra and guest (Harvard Management Company, Inc.)\n",
      "\n",
      "In addition, I'd like to get tickets for the additional parties below:\n",
      "\n",
      "1) Jennifer Fraser and guest (Enron)\n",
      "2) Robyn and George Zivic (Enron)\n",
      "3) Paul Touradji and guest (Catequil Asset Management)\n",
      "4) William Callanan and guest (Duquesne Capital Management) - please advise \n",
      "on whether I can have this many tickets\n",
      "\n",
      "\n",
      "\n",
      "\n",
      "\n",
      "----------------------------------------\n",
      "Email 10:\n",
      "The information contained herein is based on sources that we believe to be\n",
      "reliable, but we do not represent that it is accurate or complete.  Nothing\n",
      "contained herein should be considered as an offer to sell or a solicitation\n",
      "of an offer to buy any financial instruments discussed herein.  Any\n",
      "opinions expressed herein are solely those of the author.  As such, they\n",
      "may differ in material respects from those of, or expressed or published by\n",
      "on behalf of Carr Futures or its officers, directors, employees or\n",
      "affiliates.  , 2001 Carr Futures\n",
      "\n",
      "\n",
      "The charts are now available on the web by clicking on the hot link(s)\n",
      "contained in this email. If for any reason you are unable to receive the\n",
      "charts via the web, please contact me via email and I will email the charts\n",
      "to you as attachments.\n",
      "\n",
      "Distillate and unleaded charts to follow.\n",
      "\n",
      "\n",
      "Crude     http://www.carrfut.com/research/Energy1/crude42.pdf\n",
      "Natural Gas     http://www.carrfut.com/research/Energy1/ngas42.pdf\n",
      "\n",
      "Nat Gas Strip Matrix\n",
      "http://www.carrfut.com/research/Energy1/StripmatrixNG42.pdf\n",
      "Nat Gas Spread Matrix\n",
      "http://www.carrfut.com/research/Energy1/SpreadmatrixNG42.pdf\n",
      "\n",
      "Crude and Products Spread Matrix\n",
      "http://www.carrfut.com/research/Energy1/SpreadmatrixCL42.pdf\n",
      "\n",
      "\n",
      "\n",
      "\n",
      "\n",
      "Carr Futures\n",
      "150 S. Wacker Dr., Suite 1500\n",
      "Chicago, IL 60606  USA\n",
      "Tel:  312-368-6149\n",
      "Fax:  312-368-2281\n",
      "soblander@carrfut.com\n",
      "http://www.carrfut.com\n",
      "----------------------------------------\n"
     ]
    }
   ],
   "source": [
    "# # print out first 10 emails as a string\n",
    "# for i, email in enumerate(enron_corpus['Body'].head(10)):\n",
    "#     print(f\"Email {i + 1}:\")\n",
    "#     print(email)\n",
    "#     print(\"-\" * 40)"
   ]
  },
  {
   "cell_type": "markdown",
   "metadata": {},
   "source": [
    "#### Dylan's Findings\n",
    "- Purely looking at the body of Email 1 (read below):\n",
    "\n",
    "        John:\n",
    "    ?\n",
    "    I'm not really sure what happened between us.? I was  under the impression \n",
    "    after my visit to Houston that we were about to enter into  a trial agreement \n",
    "    for my advisory work.? Somehow,?this never  occurred.? Did I say or do \n",
    "    something wrong to screw this  up???\n",
    "    ?\n",
    "    I don't know if you've blown this whole thing off, but I still  hope you are \n",
    "    interested in trying?to create an arrangement.? As a  courtesy, here is my \n",
    "    report from this past weekend.? If you are no longer  interested in my work, \n",
    "    please tell me so.??Best wishes,\n",
    "    ?\n",
    "    Mark Sagel\n",
    "    Psytech Analytics\n",
    "    (410)308-0245? \n",
    "    - energy2000-1112.doc\n",
    "\n",
    "- I believe that there is a negative sentiment associated with this. \n",
    "- But the sentiment prediction is neutral, with a confidence score of 0.874\n",
    "\n",
    "#### Next Steps\n",
    "1. Find a new model\n",
    "2. Fine tune existing models\n",
    "3. Adjust Neutral Thresholds\n",
    "4. Combine Models (Ensemble Sentiment Analysis) - Need to read up"
   ]
  },
  {
   "cell_type": "markdown",
   "metadata": {},
   "source": [
    "### Trying to Adjust Neutral Thresholds first"
   ]
  },
  {
   "cell_type": "code",
   "execution_count": 159,
   "metadata": {},
   "outputs": [
    {
     "name": "stderr",
     "output_type": "stream",
     "text": [
      "/Users/Dylan/Documents/IND5003/ind5003/lib/python3.10/site-packages/transformers/pipelines/text_classification.py:104: UserWarning: `return_all_scores` is now deprecated,  if want a similar functionality use `top_k=None` instead of `return_all_scores=True` or `top_k=1` instead of `return_all_scores=False`.\n",
      "  warnings.warn(\n"
     ]
    },
    {
     "name": "stdout",
     "output_type": "stream",
     "text": [
      "Email 1:\n",
      "Label: negative, Confidence Score: 0.050283659249544144\n",
      "Label: neutral, Confidence Score: 0.8739973902702332\n",
      "Label: positive, Confidence Score: 0.07571899890899658\n",
      "----------------------------------------\n",
      "Email 2:\n",
      "Label: negative, Confidence Score: 0.05903390049934387\n",
      "Label: neutral, Confidence Score: 0.7745579481124878\n",
      "Label: positive, Confidence Score: 0.1664082258939743\n",
      "----------------------------------------\n",
      "Email 3:\n",
      "Label: negative, Confidence Score: 0.03926655277609825\n",
      "Label: neutral, Confidence Score: 0.9031914472579956\n",
      "Label: positive, Confidence Score: 0.05754199996590614\n",
      "----------------------------------------\n",
      "Email 4:\n",
      "Label: negative, Confidence Score: 0.03389590233564377\n",
      "Label: neutral, Confidence Score: 0.8824588656425476\n",
      "Label: positive, Confidence Score: 0.08364519476890564\n",
      "----------------------------------------\n",
      "Email 5:\n",
      "Label: negative, Confidence Score: 0.0390135794878006\n",
      "Label: neutral, Confidence Score: 0.8684152960777283\n",
      "Label: positive, Confidence Score: 0.09257115423679352\n",
      "----------------------------------------\n",
      "Email 6:\n",
      "Label: negative, Confidence Score: 0.04061448574066162\n",
      "Label: neutral, Confidence Score: 0.9017876982688904\n",
      "Label: positive, Confidence Score: 0.05759775638580322\n",
      "----------------------------------------\n",
      "Email 7:\n",
      "Label: negative, Confidence Score: 0.04224963113665581\n",
      "Label: neutral, Confidence Score: 0.8985042572021484\n",
      "Label: positive, Confidence Score: 0.05924612283706665\n",
      "----------------------------------------\n",
      "Email 8:\n",
      "Label: negative, Confidence Score: 0.06057615950703621\n",
      "Label: neutral, Confidence Score: 0.8956636786460876\n",
      "Label: positive, Confidence Score: 0.043760113418102264\n",
      "----------------------------------------\n",
      "Email 9:\n",
      "Label: negative, Confidence Score: 0.018550390377640724\n",
      "Label: neutral, Confidence Score: 0.9005221724510193\n",
      "Label: positive, Confidence Score: 0.08092743158340454\n",
      "----------------------------------------\n",
      "Email 10:\n",
      "Label: negative, Confidence Score: 0.0646289810538292\n",
      "Label: neutral, Confidence Score: 0.8671610951423645\n",
      "Label: positive, Confidence Score: 0.0682099238038063\n",
      "----------------------------------------\n"
     ]
    }
   ],
   "source": [
    "# # Run sentiment analysis with truncation and max_length set to 512 tokens\n",
    "# sample_sentiments = classifier(\n",
    "#     sample_emails.tolist(), \n",
    "#     truncation=True, \n",
    "#     max_length=512, \n",
    "#     return_all_scores=True  # This will return the scores for all labels\n",
    "# )\n",
    "\n",
    "# # Display the full distribution of sentiment scores for each email\n",
    "# for i, sentiment in enumerate(sample_sentiments):\n",
    "#     print(f\"Email {i + 1}:\")\n",
    "#     for label_score in sentiment:\n",
    "#         print(f\"Label: {label_score['label']}, Confidence Score: {label_score['score']}\")\n",
    "#     print(\"-\" * 40)"
   ]
  },
  {
   "cell_type": "markdown",
   "metadata": {},
   "source": [
    "### Testing using Prof's Sentiment Analysis Model on Hugging Face"
   ]
  },
  {
   "cell_type": "code",
   "execution_count": 160,
   "metadata": {},
   "outputs": [
    {
     "name": "stderr",
     "output_type": "stream",
     "text": [
      "/Users/Dylan/Documents/IND5003/ind5003/lib/python3.10/site-packages/transformers/tokenization_utils_base.py:1601: FutureWarning: `clean_up_tokenization_spaces` was not set. It will be set to `True` by default. This behavior will be depracted in transformers v4.45, and will be then set to `False` by default. For more details check this issue: https://github.com/huggingface/transformers/issues/31884\n",
      "  warnings.warn(\n",
      "Hardware accelerator e.g. GPU is available in the environment, but no `device` argument is passed to the `Pipeline` object. Model will be on CPU.\n"
     ]
    }
   ],
   "source": [
    "classifier_distilbert = pipeline(\"sentiment-analysis\", model = \"distilbert-base-uncased-finetuned-sst-2-english\")"
   ]
  },
  {
   "cell_type": "code",
   "execution_count": 161,
   "metadata": {},
   "outputs": [],
   "source": [
    "distilbert_sentiments = classifier_distilbert(sample_emails.tolist(), truncation  = True, max_length = 512)"
   ]
  },
  {
   "cell_type": "code",
   "execution_count": 162,
   "metadata": {},
   "outputs": [
    {
     "name": "stdout",
     "output_type": "stream",
     "text": [
      "Email 1:\n",
      "Sentiment Prediction: NEGATIVE\n",
      "Confidence Score: 0.9988855719566345\n",
      "----------------------------------------\n",
      "Email 2:\n",
      "Sentiment Prediction: NEGATIVE\n",
      "Confidence Score: 0.9952930808067322\n",
      "----------------------------------------\n",
      "Email 3:\n",
      "Sentiment Prediction: NEGATIVE\n",
      "Confidence Score: 0.9960916638374329\n",
      "----------------------------------------\n",
      "Email 4:\n",
      "Sentiment Prediction: NEGATIVE\n",
      "Confidence Score: 0.9927567839622498\n",
      "----------------------------------------\n",
      "Email 5:\n",
      "Sentiment Prediction: NEGATIVE\n",
      "Confidence Score: 0.9557116627693176\n",
      "----------------------------------------\n",
      "Email 6:\n",
      "Sentiment Prediction: NEGATIVE\n",
      "Confidence Score: 0.9974231719970703\n",
      "----------------------------------------\n",
      "Email 7:\n",
      "Sentiment Prediction: NEGATIVE\n",
      "Confidence Score: 0.9918583035469055\n",
      "----------------------------------------\n",
      "Email 8:\n",
      "Sentiment Prediction: NEGATIVE\n",
      "Confidence Score: 0.9920291304588318\n",
      "----------------------------------------\n",
      "Email 9:\n",
      "Sentiment Prediction: NEGATIVE\n",
      "Confidence Score: 0.9743691682815552\n",
      "----------------------------------------\n",
      "Email 10:\n",
      "Sentiment Prediction: NEGATIVE\n",
      "Confidence Score: 0.9875594973564148\n",
      "----------------------------------------\n"
     ]
    }
   ],
   "source": [
    "# # Display the results for each email\n",
    "# for i, sentiment in enumerate(distilbert_sentiments):\n",
    "#     print(f\"Email {i + 1}:\")\n",
    "#     print(\"Sentiment Prediction:\", sentiment['label'])\n",
    "#     print(\"Confidence Score:\", sentiment['score'])\n",
    "#     print(\"-\" * 40)"
   ]
  },
  {
   "cell_type": "markdown",
   "metadata": {},
   "source": [
    "#### Findings from Dylan using Distilbert sst-2\n",
    "- Not good\n",
    "- Only email 1 was negative since it had sentiments of disappointment and confusion."
   ]
  },
  {
   "cell_type": "markdown",
   "metadata": {},
   "source": [
    "### Trying to perform ensemble sentiment analysis with Twitter Model and SST-2"
   ]
  },
  {
   "cell_type": "code",
   "execution_count": 164,
   "metadata": {},
   "outputs": [
    {
     "name": "stderr",
     "output_type": "stream",
     "text": [
      "Some weights of the model checkpoint at cardiffnlp/twitter-roberta-base-sentiment-latest were not used when initializing RobertaForSequenceClassification: ['roberta.pooler.dense.bias', 'roberta.pooler.dense.weight']\n",
      "- This IS expected if you are initializing RobertaForSequenceClassification from the checkpoint of a model trained on another task or with another architecture (e.g. initializing a BertForSequenceClassification model from a BertForPreTraining model).\n",
      "- This IS NOT expected if you are initializing RobertaForSequenceClassification from the checkpoint of a model that you expect to be exactly identical (initializing a BertForSequenceClassification model from a BertForSequenceClassification model).\n",
      "Hardware accelerator e.g. GPU is available in the environment, but no `device` argument is passed to the `Pipeline` object. Model will be on CPU.\n",
      "Hardware accelerator e.g. GPU is available in the environment, but no `device` argument is passed to the `Pipeline` object. Model will be on CPU.\n"
     ]
    },
    {
     "name": "stdout",
     "output_type": "stream",
     "text": [
      "Email 1: Final Sentiment Prediction (Averaged): negative\n",
      "----------------------------------------\n",
      "Email 2: Final Sentiment Prediction (Averaged): negative\n",
      "----------------------------------------\n",
      "Email 3: Final Sentiment Prediction (Averaged): negative\n",
      "----------------------------------------\n",
      "Email 4: Final Sentiment Prediction (Averaged): negative\n",
      "----------------------------------------\n",
      "Email 5: Final Sentiment Prediction (Averaged): negative\n",
      "----------------------------------------\n"
     ]
    }
   ],
   "source": [
    "# classifier_roberta = pipeline(\"sentiment-analysis\", model=\"cardiffnlp/twitter-roberta-base-sentiment-latest\")\n",
    "# classifier_distilbert = pipeline(\"sentiment-analysis\", model=\"distilbert-base-uncased-finetuned-sst-2-english\")\n",
    "\n",
    "# # Select a sample of emails from the Cleaned_Body column\n",
    "# sample_emails = enron_corpus['Cleaned_Body'].head(5)\n",
    "# sample_emails = sample_emails.apply(lambda x: ' '.join(x.split()[:512]))  # Truncate to 512 tokens\n",
    "\n",
    "# # Run sentiment analysis using both models\n",
    "# roberta_sentiments = classifier_roberta(sample_emails.tolist(), truncation=True, max_length=512, return_all_scores=True)\n",
    "# distilbert_sentiments = classifier_distilbert(sample_emails.tolist(), truncation=True, max_length=512, return_all_scores=True)\n",
    "\n",
    "# # Function to map and average sentiment scores from both models\n",
    "# def average_scores(sentiments1, sentiments2):\n",
    "#     final_predictions = []\n",
    "    \n",
    "#     # Common set of labels\n",
    "#     labels = ['positive', 'neutral', 'negative']\n",
    "    \n",
    "#     for s1, s2 in zip(sentiments1, sentiments2):\n",
    "#         # Initialize averaged scores\n",
    "#         averaged_scores = {label: 0 for label in labels}\n",
    "        \n",
    "#         # Map DistilBERT's 'POSITIVE' and 'NEGATIVE' to 'positive' and 'negative'\n",
    "#         distilbert_mapped = [{'label': 'positive' if sc['label'] == 'POSITIVE' else 'negative', 'score': sc['score']} for sc in s2]\n",
    "        \n",
    "#         # Add scores from both models\n",
    "#         for score1, score2 in zip(s1, distilbert_mapped):\n",
    "#             averaged_scores[score1['label'].lower()] += score1['score'] / 2  # RoBERTa labels are lowercase\n",
    "#             averaged_scores[score2['label']] += score2['score'] / 2  # DistilBERT labels are mapped\n",
    "\n",
    "#         # Get the label with the highest average score\n",
    "#         final_label = max(averaged_scores, key=averaged_scores.get)\n",
    "#         final_predictions.append(final_label)\n",
    "    \n",
    "#     return final_predictions\n",
    "\n",
    "# # Apply the averaging method\n",
    "# final_predictions_avg = average_scores(roberta_sentiments, distilbert_sentiments)\n",
    "\n",
    "# # Display the results\n",
    "# for i, final_label in enumerate(final_predictions_avg):\n",
    "#     print(f\"Email {i + 1}: Final Sentiment Prediction (Averaged): {final_label}\")\n",
    "#     print(\"-\" * 40)"
   ]
  },
  {
   "cell_type": "markdown",
   "metadata": {},
   "source": [
    "#### Findings from Dylan\n",
    "- Doesn't combine well\n",
    "- Wrongly classifies the neutral emails as negative\n",
    "- This is likely contributed by the SST-2 Model \n",
    "- Hence, likely unusable at all."
   ]
  },
  {
   "cell_type": "markdown",
   "metadata": {},
   "source": [
    "### Test it out on batches in the 3 Defined Timeframes first\n",
    "\n",
    "Hypothesis: \n",
    "- During the `enron_pre_crisis` there would be plenty of 'POSITIVE' & 'NEUTRAL'\n",
    "- During the `enron_during_crisis` there would be a shift to 'NEGATIVE' \n",
    "- During the `enron_post_crisis` there would be a shift to 'NEGATIVE' & 'NEUTRAL'"
   ]
  },
  {
   "cell_type": "markdown",
   "metadata": {},
   "source": [
    "### Pre-crisis"
   ]
  },
  {
   "cell_type": "code",
   "execution_count": 30,
   "metadata": {},
   "outputs": [],
   "source": [
    "# Take a random sample of 100 emails from the enron_pre_crisis dataset\n",
    "sample_pre_crisis = enron_pre_crisis.sample(n=100, random_state=42)"
   ]
  },
  {
   "cell_type": "code",
   "execution_count": 31,
   "metadata": {},
   "outputs": [],
   "source": [
    "sample_pre_crisis_sentiments = classifier(sample_pre_crisis['Cleaned_Body'].tolist(), truncation=True, max_length=512)"
   ]
  },
  {
   "cell_type": "code",
   "execution_count": 32,
   "metadata": {},
   "outputs": [
    {
     "name": "stdout",
     "output_type": "stream",
     "text": [
      "Sentiment Counts:\n",
      "{'positive': 2, 'neutral': 98, 'negative': 0}\n"
     ]
    }
   ],
   "source": [
    "# Step 1: Initialize sentiment counts\n",
    "sentiment_counts_pre_crisis = {'positive': 0, 'neutral': 0, 'negative': 0}\n",
    "\n",
    "# Step 2: Iterate over each sentiment prediction\n",
    "for sentiment in sample_pre_crisis_sentiments:\n",
    "    # Get the sentiment label (positive, neutral, negative) and make it lowercase\n",
    "    label = sentiment['label'].lower()\n",
    "    \n",
    "    # Increment the count for that label\n",
    "    sentiment_counts_pre_crisis[label] += 1\n",
    "\n",
    "# Step 3: Display the final sentiment counts\n",
    "print(\"Sentiment Counts:\")\n",
    "print(sentiment_counts_pre_crisis)\n"
   ]
  },
  {
   "cell_type": "markdown",
   "metadata": {},
   "source": [
    "### During Crisis"
   ]
  },
  {
   "cell_type": "code",
   "execution_count": 33,
   "metadata": {},
   "outputs": [],
   "source": [
    "# Take a random sample of 100 emails from the enron_during_crisis dataset\n",
    "sample_during_crisis = enron_during_crisis.sample(n=100, random_state=42)"
   ]
  },
  {
   "cell_type": "code",
   "execution_count": 34,
   "metadata": {},
   "outputs": [],
   "source": [
    "sample_during_crisis_sentiments = classifier(sample_during_crisis['Cleaned_Body'].tolist(), truncation=True, max_length=512)"
   ]
  },
  {
   "cell_type": "code",
   "execution_count": 35,
   "metadata": {},
   "outputs": [
    {
     "name": "stdout",
     "output_type": "stream",
     "text": [
      "Sentiment Counts:\n",
      "{'positive': 2, 'neutral': 98, 'negative': 0}\n"
     ]
    }
   ],
   "source": [
    "# Step 1: Initialize sentiment counts\n",
    "sentiment_counts_during_crisis = {'positive': 0, 'neutral': 0, 'negative': 0}\n",
    "\n",
    "# Step 2: Iterate over each sentiment prediction\n",
    "for sentiment in sample_during_crisis_sentiments:\n",
    "    # Get the sentiment label (positive, neutral, negative) and make it lowercase\n",
    "    label = sentiment['label'].lower()\n",
    "    \n",
    "    # Increment the count for that label\n",
    "    \n",
    "    sentiment_counts_during_crisis[label] += 1\n",
    "\n",
    "# Step 3: Display the final sentiment counts\n",
    "print(\"Sentiment Counts:\")\n",
    "print(sentiment_counts_during_crisis)\n"
   ]
  },
  {
   "cell_type": "code",
   "execution_count": 36,
   "metadata": {},
   "outputs": [
    {
     "name": "stdout",
     "output_type": "stream",
     "text": [
      "Number of duplicated emails between pre-crisis and during-crisis: 0\n"
     ]
    }
   ],
   "source": [
    "# Check if the Cleaned_Body of emails in the two samples are the same\n",
    "duplicate_emails = sample_pre_crisis['Cleaned_Body'].isin(sample_during_crisis['Cleaned_Body']).sum()\n",
    "\n",
    "print(f\"Number of duplicated emails between pre-crisis and during-crisis: {duplicate_emails}\")"
   ]
  },
  {
   "cell_type": "markdown",
   "metadata": {},
   "source": [
    "# Sentiment Analysis using Betweenness over 3 Periods\n",
    "\n",
    "(Ignore above portion of the sentiment analysis for now)"
   ]
  },
  {
   "cell_type": "code",
   "execution_count": 53,
   "metadata": {},
   "outputs": [],
   "source": [
    "# Load the DF for the 3 timeframes\n",
    "# Be sure to download them locally into your computer first\n",
    "enron_pre_crisis_betweenness = pd.read_csv('Betweenness/enron_pre_crisis_betweenness.csv')\n",
    "enron_during_crisis_betweenness = pd.read_csv('Betweenness/enron_during_crisis_betweenness.csv')\n",
    "enron_post_crisis_betweeness = pd.read_csv('Betweenness/enron_post_crisis_betweenness.csv')"
   ]
  },
  {
   "cell_type": "code",
   "execution_count": 55,
   "metadata": {},
   "outputs": [
    {
     "data": {
      "text/html": [
       "<div>\n",
       "<style scoped>\n",
       "    .dataframe tbody tr th:only-of-type {\n",
       "        vertical-align: middle;\n",
       "    }\n",
       "\n",
       "    .dataframe tbody tr th {\n",
       "        vertical-align: top;\n",
       "    }\n",
       "\n",
       "    .dataframe thead th {\n",
       "        text-align: right;\n",
       "    }\n",
       "</style>\n",
       "<table border=\"1\" class=\"dataframe\">\n",
       "  <thead>\n",
       "    <tr style=\"text-align: right;\">\n",
       "      <th></th>\n",
       "      <th>Unnamed: 0</th>\n",
       "      <th>From</th>\n",
       "      <th>To</th>\n",
       "      <th>Date</th>\n",
       "      <th>Subject</th>\n",
       "      <th>Body</th>\n",
       "      <th>Year</th>\n",
       "      <th>Month</th>\n",
       "      <th>year-month</th>\n",
       "      <th>From_Source</th>\n",
       "      <th>To_Source</th>\n",
       "      <th>Receiver_Count</th>\n",
       "      <th>Community</th>\n",
       "    </tr>\n",
       "  </thead>\n",
       "  <tbody>\n",
       "    <tr>\n",
       "      <th>0</th>\n",
       "      <td>0</td>\n",
       "      <td>sara.shackleton@enron.com</td>\n",
       "      <td>['marie.heard@enron.com']</td>\n",
       "      <td>1999-06-01 11:38:00+00:00</td>\n",
       "      <td>The Dispatch Printing Company</td>\n",
       "      <td>FYI\\n---------------------- Forwarded by Sara ...</td>\n",
       "      <td>1999</td>\n",
       "      <td>6</td>\n",
       "      <td>1999-06</td>\n",
       "      <td>internal</td>\n",
       "      <td>internal</td>\n",
       "      <td>1</td>\n",
       "      <td>14.0</td>\n",
       "    </tr>\n",
       "    <tr>\n",
       "      <th>1</th>\n",
       "      <td>1</td>\n",
       "      <td>mark.taylor@enron.com</td>\n",
       "      <td>['elizabeth.sager@enron.com']</td>\n",
       "      <td>1999-06-01 12:24:00+00:00</td>\n",
       "      <td>FYI</td>\n",
       "      <td>Western Power Market Stands 'Poised on the \\nP...</td>\n",
       "      <td>1999</td>\n",
       "      <td>6</td>\n",
       "      <td>1999-06</td>\n",
       "      <td>internal</td>\n",
       "      <td>internal</td>\n",
       "      <td>1</td>\n",
       "      <td>14.0</td>\n",
       "    </tr>\n",
       "    <tr>\n",
       "      <th>2</th>\n",
       "      <td>2</td>\n",
       "      <td>tana.jones@enron.com</td>\n",
       "      <td>['susan.flynn@enron.com', 'shari.stack@enron.c...</td>\n",
       "      <td>1999-06-01 13:08:00+00:00</td>\n",
       "      <td>Legal/Credit Meeting</td>\n",
       "      <td>The Legal/Credit Meeting scheduled for today i...</td>\n",
       "      <td>1999</td>\n",
       "      <td>6</td>\n",
       "      <td>1999-06</td>\n",
       "      <td>internal</td>\n",
       "      <td>internal</td>\n",
       "      <td>8</td>\n",
       "      <td>14.0</td>\n",
       "    </tr>\n",
       "    <tr>\n",
       "      <th>3</th>\n",
       "      <td>3</td>\n",
       "      <td>mark.taylor@enron.com</td>\n",
       "      <td>['justin.boyd@enron.com']</td>\n",
       "      <td>1999-06-01 13:37:00+00:00</td>\n",
       "      <td>Re: Internet Trading - Internet Trading Access...</td>\n",
       "      <td>Justin,\\n\\nI note that the ETA has been revise...</td>\n",
       "      <td>1999</td>\n",
       "      <td>6</td>\n",
       "      <td>1999-06</td>\n",
       "      <td>internal</td>\n",
       "      <td>internal</td>\n",
       "      <td>1</td>\n",
       "      <td>14.0</td>\n",
       "    </tr>\n",
       "    <tr>\n",
       "      <th>4</th>\n",
       "      <td>4</td>\n",
       "      <td>gerald.nemec@enron.com</td>\n",
       "      <td>['kay.young@enron.com']</td>\n",
       "      <td>1999-06-01 14:26:00+00:00</td>\n",
       "      <td>Pinnacle CA Data Sheet</td>\n",
       "      <td>Kay,  Please review the attached data sheet an...</td>\n",
       "      <td>1999</td>\n",
       "      <td>6</td>\n",
       "      <td>1999-06</td>\n",
       "      <td>internal</td>\n",
       "      <td>internal</td>\n",
       "      <td>1</td>\n",
       "      <td>9.0</td>\n",
       "    </tr>\n",
       "  </tbody>\n",
       "</table>\n",
       "</div>"
      ],
      "text/plain": [
       "   Unnamed: 0                       From  \\\n",
       "0           0  sara.shackleton@enron.com   \n",
       "1           1      mark.taylor@enron.com   \n",
       "2           2       tana.jones@enron.com   \n",
       "3           3      mark.taylor@enron.com   \n",
       "4           4     gerald.nemec@enron.com   \n",
       "\n",
       "                                                  To  \\\n",
       "0                          ['marie.heard@enron.com']   \n",
       "1                      ['elizabeth.sager@enron.com']   \n",
       "2  ['susan.flynn@enron.com', 'shari.stack@enron.c...   \n",
       "3                          ['justin.boyd@enron.com']   \n",
       "4                            ['kay.young@enron.com']   \n",
       "\n",
       "                        Date  \\\n",
       "0  1999-06-01 11:38:00+00:00   \n",
       "1  1999-06-01 12:24:00+00:00   \n",
       "2  1999-06-01 13:08:00+00:00   \n",
       "3  1999-06-01 13:37:00+00:00   \n",
       "4  1999-06-01 14:26:00+00:00   \n",
       "\n",
       "                                             Subject  \\\n",
       "0                      The Dispatch Printing Company   \n",
       "1                                                FYI   \n",
       "2                               Legal/Credit Meeting   \n",
       "3  Re: Internet Trading - Internet Trading Access...   \n",
       "4                             Pinnacle CA Data Sheet   \n",
       "\n",
       "                                                Body  Year  Month year-month  \\\n",
       "0  FYI\\n---------------------- Forwarded by Sara ...  1999      6    1999-06   \n",
       "1  Western Power Market Stands 'Poised on the \\nP...  1999      6    1999-06   \n",
       "2  The Legal/Credit Meeting scheduled for today i...  1999      6    1999-06   \n",
       "3  Justin,\\n\\nI note that the ETA has been revise...  1999      6    1999-06   \n",
       "4  Kay,  Please review the attached data sheet an...  1999      6    1999-06   \n",
       "\n",
       "  From_Source To_Source  Receiver_Count  Community  \n",
       "0    internal  internal               1       14.0  \n",
       "1    internal  internal               1       14.0  \n",
       "2    internal  internal               8       14.0  \n",
       "3    internal  internal               1       14.0  \n",
       "4    internal  internal               1        9.0  "
      ]
     },
     "execution_count": 55,
     "metadata": {},
     "output_type": "execute_result"
    }
   ],
   "source": [
    "# Preview the DFs \n",
    "enron_pre_crisis_betweenness.head()"
   ]
  },
  {
   "cell_type": "code",
   "execution_count": 57,
   "metadata": {},
   "outputs": [
    {
     "data": {
      "text/html": [
       "<div>\n",
       "<style scoped>\n",
       "    .dataframe tbody tr th:only-of-type {\n",
       "        vertical-align: middle;\n",
       "    }\n",
       "\n",
       "    .dataframe tbody tr th {\n",
       "        vertical-align: top;\n",
       "    }\n",
       "\n",
       "    .dataframe thead th {\n",
       "        text-align: right;\n",
       "    }\n",
       "</style>\n",
       "<table border=\"1\" class=\"dataframe\">\n",
       "  <thead>\n",
       "    <tr style=\"text-align: right;\">\n",
       "      <th></th>\n",
       "      <th>Unnamed: 0</th>\n",
       "      <th>From</th>\n",
       "      <th>To</th>\n",
       "      <th>Date</th>\n",
       "      <th>Subject</th>\n",
       "      <th>Body</th>\n",
       "      <th>Year</th>\n",
       "      <th>Month</th>\n",
       "      <th>year-month</th>\n",
       "      <th>From_Source</th>\n",
       "      <th>To_Source</th>\n",
       "      <th>Receiver_Count</th>\n",
       "      <th>Community</th>\n",
       "    </tr>\n",
       "  </thead>\n",
       "  <tbody>\n",
       "    <tr>\n",
       "      <th>0</th>\n",
       "      <td>0</td>\n",
       "      <td>steven.kean@enron.com</td>\n",
       "      <td>['gavin.dillingham@enron.com']</td>\n",
       "      <td>2000-09-01 07:16:00+00:00</td>\n",
       "      <td>California</td>\n",
       "      <td>Please send the economist piece around.\\n-----...</td>\n",
       "      <td>2000</td>\n",
       "      <td>9</td>\n",
       "      <td>2000-09</td>\n",
       "      <td>internal</td>\n",
       "      <td>internal</td>\n",
       "      <td>1</td>\n",
       "      <td>4.0</td>\n",
       "    </tr>\n",
       "    <tr>\n",
       "      <th>1</th>\n",
       "      <td>1</td>\n",
       "      <td>steven.kean@enron.com</td>\n",
       "      <td>['mark.schroeder@enron.com']</td>\n",
       "      <td>2000-09-01 07:16:00+00:00</td>\n",
       "      <td>Re: 2001 budget</td>\n",
       "      <td>I do support the change.  Let me know what I c...</td>\n",
       "      <td>2000</td>\n",
       "      <td>9</td>\n",
       "      <td>2000-09</td>\n",
       "      <td>internal</td>\n",
       "      <td>internal</td>\n",
       "      <td>1</td>\n",
       "      <td>4.0</td>\n",
       "    </tr>\n",
       "    <tr>\n",
       "      <th>2</th>\n",
       "      <td>2</td>\n",
       "      <td>steven.kean@enron.com</td>\n",
       "      <td>[\"nicholas.o'day@enron.com\"]</td>\n",
       "      <td>2000-09-01 07:17:00+00:00</td>\n",
       "      <td>Re: Ken Lay/ Jeff Skilling visits</td>\n",
       "      <td>No, I had the right date from our previous com...</td>\n",
       "      <td>2000</td>\n",
       "      <td>9</td>\n",
       "      <td>2000-09</td>\n",
       "      <td>internal</td>\n",
       "      <td>internal</td>\n",
       "      <td>1</td>\n",
       "      <td>4.0</td>\n",
       "    </tr>\n",
       "    <tr>\n",
       "      <th>3</th>\n",
       "      <td>3</td>\n",
       "      <td>vince.kaminski@enron.com</td>\n",
       "      <td>['vkaminski@aol.com']</td>\n",
       "      <td>2000-09-01 07:24:00+00:00</td>\n",
       "      <td>The rumor mill</td>\n",
       "      <td>---------------------- Forwarded by Vince J Ka...</td>\n",
       "      <td>2000</td>\n",
       "      <td>9</td>\n",
       "      <td>2000-09</td>\n",
       "      <td>internal</td>\n",
       "      <td>external</td>\n",
       "      <td>1</td>\n",
       "      <td>1.0</td>\n",
       "    </tr>\n",
       "    <tr>\n",
       "      <th>4</th>\n",
       "      <td>4</td>\n",
       "      <td>steven.kean@enron.com</td>\n",
       "      <td>['tim.belden@enron.com', 'susan.mara@enron.com...</td>\n",
       "      <td>2000-09-01 07:43:00+00:00</td>\n",
       "      <td>NaN</td>\n",
       "      <td>When we have described the problems and soluti...</td>\n",
       "      <td>2000</td>\n",
       "      <td>9</td>\n",
       "      <td>2000-09</td>\n",
       "      <td>internal</td>\n",
       "      <td>internal</td>\n",
       "      <td>5</td>\n",
       "      <td>4.0</td>\n",
       "    </tr>\n",
       "  </tbody>\n",
       "</table>\n",
       "</div>"
      ],
      "text/plain": [
       "   Unnamed: 0                      From  \\\n",
       "0           0     steven.kean@enron.com   \n",
       "1           1     steven.kean@enron.com   \n",
       "2           2     steven.kean@enron.com   \n",
       "3           3  vince.kaminski@enron.com   \n",
       "4           4     steven.kean@enron.com   \n",
       "\n",
       "                                                  To  \\\n",
       "0                     ['gavin.dillingham@enron.com']   \n",
       "1                       ['mark.schroeder@enron.com']   \n",
       "2                       [\"nicholas.o'day@enron.com\"]   \n",
       "3                              ['vkaminski@aol.com']   \n",
       "4  ['tim.belden@enron.com', 'susan.mara@enron.com...   \n",
       "\n",
       "                        Date                            Subject  \\\n",
       "0  2000-09-01 07:16:00+00:00                         California   \n",
       "1  2000-09-01 07:16:00+00:00                    Re: 2001 budget   \n",
       "2  2000-09-01 07:17:00+00:00  Re: Ken Lay/ Jeff Skilling visits   \n",
       "3  2000-09-01 07:24:00+00:00                     The rumor mill   \n",
       "4  2000-09-01 07:43:00+00:00                                NaN   \n",
       "\n",
       "                                                Body  Year  Month year-month  \\\n",
       "0  Please send the economist piece around.\\n-----...  2000      9    2000-09   \n",
       "1  I do support the change.  Let me know what I c...  2000      9    2000-09   \n",
       "2  No, I had the right date from our previous com...  2000      9    2000-09   \n",
       "3  ---------------------- Forwarded by Vince J Ka...  2000      9    2000-09   \n",
       "4  When we have described the problems and soluti...  2000      9    2000-09   \n",
       "\n",
       "  From_Source To_Source  Receiver_Count  Community  \n",
       "0    internal  internal               1        4.0  \n",
       "1    internal  internal               1        4.0  \n",
       "2    internal  internal               1        4.0  \n",
       "3    internal  external               1        1.0  \n",
       "4    internal  internal               5        4.0  "
      ]
     },
     "execution_count": 57,
     "metadata": {},
     "output_type": "execute_result"
    }
   ],
   "source": [
    "enron_during_crisis_betweenness.head()"
   ]
  },
  {
   "cell_type": "code",
   "execution_count": 58,
   "metadata": {},
   "outputs": [
    {
     "data": {
      "text/html": [
       "<div>\n",
       "<style scoped>\n",
       "    .dataframe tbody tr th:only-of-type {\n",
       "        vertical-align: middle;\n",
       "    }\n",
       "\n",
       "    .dataframe tbody tr th {\n",
       "        vertical-align: top;\n",
       "    }\n",
       "\n",
       "    .dataframe thead th {\n",
       "        text-align: right;\n",
       "    }\n",
       "</style>\n",
       "<table border=\"1\" class=\"dataframe\">\n",
       "  <thead>\n",
       "    <tr style=\"text-align: right;\">\n",
       "      <th></th>\n",
       "      <th>Unnamed: 0</th>\n",
       "      <th>From</th>\n",
       "      <th>To</th>\n",
       "      <th>Date</th>\n",
       "      <th>Subject</th>\n",
       "      <th>Body</th>\n",
       "      <th>Year</th>\n",
       "      <th>Month</th>\n",
       "      <th>year-month</th>\n",
       "      <th>From_Source</th>\n",
       "      <th>To_Source</th>\n",
       "      <th>Receiver_Count</th>\n",
       "      <th>Community</th>\n",
       "    </tr>\n",
       "  </thead>\n",
       "  <tbody>\n",
       "    <tr>\n",
       "      <th>0</th>\n",
       "      <td>0</td>\n",
       "      <td>karen.denne@enron.com</td>\n",
       "      <td>['jordan.mintz@enron.com', 'jeffrey.mcmahon@en...</td>\n",
       "      <td>2001-11-01 01:54:05+00:00</td>\n",
       "      <td>Draft Bank Release</td>\n",
       "      <td>The attached press release is the latest draft...</td>\n",
       "      <td>2001</td>\n",
       "      <td>11</td>\n",
       "      <td>2001-11</td>\n",
       "      <td>internal</td>\n",
       "      <td>internal</td>\n",
       "      <td>15</td>\n",
       "      <td>1.0</td>\n",
       "    </tr>\n",
       "    <tr>\n",
       "      <th>1</th>\n",
       "      <td>1</td>\n",
       "      <td>j..kean@enron.com</td>\n",
       "      <td>['jordan.mintz@enron.com', 'jeffrey.mcmahon@en...</td>\n",
       "      <td>2001-11-01 03:12:28+00:00</td>\n",
       "      <td>RE: Draft Bank Release</td>\n",
       "      <td>This is the final version agreed to by Citi an...</td>\n",
       "      <td>2001</td>\n",
       "      <td>11</td>\n",
       "      <td>2001-11</td>\n",
       "      <td>internal</td>\n",
       "      <td>internal</td>\n",
       "      <td>15</td>\n",
       "      <td>1.0</td>\n",
       "    </tr>\n",
       "    <tr>\n",
       "      <th>2</th>\n",
       "      <td>2</td>\n",
       "      <td>tim.belden@enron.com</td>\n",
       "      <td>['center.dl-portland@enron.com']</td>\n",
       "      <td>2001-11-01 03:17:12+00:00</td>\n",
       "      <td>FW: 10/31/01 Press Release</td>\n",
       "      <td>FYI.  The latest press release from Enron.  We...</td>\n",
       "      <td>2001</td>\n",
       "      <td>11</td>\n",
       "      <td>2001-11</td>\n",
       "      <td>internal</td>\n",
       "      <td>internal</td>\n",
       "      <td>1</td>\n",
       "      <td>6.0</td>\n",
       "    </tr>\n",
       "    <tr>\n",
       "      <th>3</th>\n",
       "      <td>3</td>\n",
       "      <td>jeff.dasovich@enron.com</td>\n",
       "      <td>['shelanski@law.berkeley.edu']</td>\n",
       "      <td>2001-11-01 05:26:34+00:00</td>\n",
       "      <td>RE: Case #1 for E278--Deals: AMENDED</td>\n",
       "      <td>\\nProfessor:\\nThanks for the response.  Howeve...</td>\n",
       "      <td>2001</td>\n",
       "      <td>11</td>\n",
       "      <td>2001-11</td>\n",
       "      <td>internal</td>\n",
       "      <td>external</td>\n",
       "      <td>1</td>\n",
       "      <td>8.0</td>\n",
       "    </tr>\n",
       "    <tr>\n",
       "      <th>4</th>\n",
       "      <td>4</td>\n",
       "      <td>cora.pendergrass@enron.com</td>\n",
       "      <td>['c..james@enron.com', 'marlene.hilliard@enron...</td>\n",
       "      <td>2001-11-01 13:04:36+00:00</td>\n",
       "      <td>RE: Nicor Hub contracts</td>\n",
       "      <td>We are changing how we put in these tickets ef...</td>\n",
       "      <td>2001</td>\n",
       "      <td>11</td>\n",
       "      <td>2001-11</td>\n",
       "      <td>internal</td>\n",
       "      <td>internal</td>\n",
       "      <td>3</td>\n",
       "      <td>7.0</td>\n",
       "    </tr>\n",
       "  </tbody>\n",
       "</table>\n",
       "</div>"
      ],
      "text/plain": [
       "   Unnamed: 0                        From  \\\n",
       "0           0       karen.denne@enron.com   \n",
       "1           1           j..kean@enron.com   \n",
       "2           2        tim.belden@enron.com   \n",
       "3           3     jeff.dasovich@enron.com   \n",
       "4           4  cora.pendergrass@enron.com   \n",
       "\n",
       "                                                  To  \\\n",
       "0  ['jordan.mintz@enron.com', 'jeffrey.mcmahon@en...   \n",
       "1  ['jordan.mintz@enron.com', 'jeffrey.mcmahon@en...   \n",
       "2                   ['center.dl-portland@enron.com']   \n",
       "3                     ['shelanski@law.berkeley.edu']   \n",
       "4  ['c..james@enron.com', 'marlene.hilliard@enron...   \n",
       "\n",
       "                        Date                               Subject  \\\n",
       "0  2001-11-01 01:54:05+00:00                    Draft Bank Release   \n",
       "1  2001-11-01 03:12:28+00:00                RE: Draft Bank Release   \n",
       "2  2001-11-01 03:17:12+00:00            FW: 10/31/01 Press Release   \n",
       "3  2001-11-01 05:26:34+00:00  RE: Case #1 for E278--Deals: AMENDED   \n",
       "4  2001-11-01 13:04:36+00:00               RE: Nicor Hub contracts   \n",
       "\n",
       "                                                Body  Year  Month year-month  \\\n",
       "0  The attached press release is the latest draft...  2001     11    2001-11   \n",
       "1  This is the final version agreed to by Citi an...  2001     11    2001-11   \n",
       "2  FYI.  The latest press release from Enron.  We...  2001     11    2001-11   \n",
       "3  \\nProfessor:\\nThanks for the response.  Howeve...  2001     11    2001-11   \n",
       "4  We are changing how we put in these tickets ef...  2001     11    2001-11   \n",
       "\n",
       "  From_Source To_Source  Receiver_Count  Community  \n",
       "0    internal  internal              15        1.0  \n",
       "1    internal  internal              15        1.0  \n",
       "2    internal  internal               1        6.0  \n",
       "3    internal  external               1        8.0  \n",
       "4    internal  internal               3        7.0  "
      ]
     },
     "execution_count": 58,
     "metadata": {},
     "output_type": "execute_result"
    }
   ],
   "source": [
    "enron_post_crisis_betweeness.head()"
   ]
  },
  {
   "cell_type": "markdown",
   "metadata": {},
   "source": [
    "## Perform the SA Across 3 Time Frames\n",
    "### Look at the Sentiment scores for the subject of the emails first - Just to Test\n",
    "### Followed by looking at the Sentiment scores for the body of the emails"
   ]
  },
  {
   "cell_type": "code",
   "execution_count": 65,
   "metadata": {},
   "outputs": [],
   "source": [
    "# # Start with pre crisis\n",
    "# # Filter the subject column\n",
    "\n",
    "# pre_crisis_subjects = enron_pre_crisis_betweenness['Subject'].tolist()\n",
    "\n",
    "# pre_crisis_subjects = [' '.join(str(subject).split()[:512]) if isinstance(subject, str) else '' for subject in pre_crisis_subjects]\n",
    "\n",
    "# # Applying the twitter sentiment analysis model to the pre crisis subjects\n",
    "# pre_crisis_sentiments = classifier(pre_crisis_subjects, truncation=True, max_length=512)\n"
   ]
  },
  {
   "cell_type": "code",
   "execution_count": 66,
   "metadata": {},
   "outputs": [],
   "source": [
    "# Sentiment Analysis on the body\n",
    "\n",
    "# Filter for the body column\n",
    "\n",
    "pre_crisis_body = enron_pre_crisis_betweenness['Body'].tolist()"
   ]
  },
  {
   "cell_type": "code",
   "execution_count": 67,
   "metadata": {},
   "outputs": [],
   "source": [
    "pre_crisis_body = [' '.join(str(body).split()[:512]) if isinstance(body, str) else '' for body in pre_crisis_body]"
   ]
  },
  {
   "cell_type": "code",
   "execution_count": 71,
   "metadata": {},
   "outputs": [],
   "source": [
    "# Take a random sample of emails (e.g., 500 emails for faster testing)\n",
    "sample_size = 500\n",
    "pre_crisis_body_sample_test = pre_crisis_body[:sample_size]\n",
    "\n",
    "# Run sentiment analysis on the sample\n",
    "pre_crisis_sentiments_sample_test = classifier(pre_crisis_body_sample, truncation=True, max_length=512)\n"
   ]
  },
  {
   "cell_type": "code",
   "execution_count": 73,
   "metadata": {},
   "outputs": [],
   "source": [
    "# Try to batch\n",
    "\n",
    "def analyze_in_batches(text_list, batch_size=50):\n",
    "    # Initialize the sentiment scores\n",
    "    sentiment_scores = []\n",
    "    \n",
    "    # Iterate over the text_list in batches\n",
    "    for i in range(0, len(text_list), batch_size):\n",
    "\n",
    "        # Get a batch of text\n",
    "        batch = text_list[i:i + batch_size]\n",
    "\n",
    "        # Run sentiment analysis on the batch\n",
    "        batch_sentiments = classifier(batch, truncation=True, max_length=512)\n",
    "        \n",
    "        # Append the batch results to the main list\n",
    "        sentiment_scores.extend(batch_sentiments)\n",
    "    \n",
    "    return sentiment_scores"
   ]
  },
  {
   "cell_type": "code",
   "execution_count": 74,
   "metadata": {},
   "outputs": [],
   "source": [
    "# Usage of this function for batching \n",
    "\n",
    "batch_size = 50 \n",
    "pre_crisis_sentiments = analyze_in_batches(pre_crisis_body, batch_size=batch_size)"
   ]
  },
  {
   "cell_type": "code",
   "execution_count": 76,
   "metadata": {},
   "outputs": [],
   "source": [
    "pre_crisis_sentiments_df = pd.DataFrame(pre_crisis_sentiments)\n",
    "\n",
    "# Convert to CSV\n",
    "pre_crisis_sentiments_df.to_csv('pre_crisis_sentiments.csv', index=False)"
   ]
  },
  {
   "cell_type": "code",
   "execution_count": 77,
   "metadata": {},
   "outputs": [],
   "source": [
    "# Repeat on the during crisis\n",
    "# Filter for the body column\n",
    "during_crisis_body = enron_during_crisis_betweenness['Body'].tolist()"
   ]
  },
  {
   "cell_type": "code",
   "execution_count": 78,
   "metadata": {},
   "outputs": [],
   "source": [
    "during_crisis_body = [' '.join(str(body).split()[:512]) if isinstance(body, str) else '' for body in during_crisis_body]"
   ]
  },
  {
   "cell_type": "code",
   "execution_count": 80,
   "metadata": {},
   "outputs": [],
   "source": [
    "# Apply the twitter sentiment analysis model to the during crisis body\n",
    "\n",
    "during_crisis_sentiments = analyze_in_batches(during_crisis_body, batch_size= 100)"
   ]
  },
  {
   "cell_type": "code",
   "execution_count": 81,
   "metadata": {},
   "outputs": [],
   "source": [
    "during_crisis_sentiments_df = pd.DataFrame(during_crisis_sentiments)\n",
    "\n",
    "# Convert to CSV\n",
    "during_crisis_sentiments_df.to_csv('during_crisis_sentiments.csv', index=False)"
   ]
  },
  {
   "cell_type": "code",
   "execution_count": 90,
   "metadata": {},
   "outputs": [],
   "source": [
    "# Repeat on the post crisis\n",
    "\n",
    "post_crisis_body = enron_post_crisis_betweeness['Body'].tolist()"
   ]
  },
  {
   "cell_type": "code",
   "execution_count": 91,
   "metadata": {},
   "outputs": [],
   "source": [
    "post_crisis_body = [' '.join(str(body).split()[:512]) if isinstance(body, str) else '' for body in post_crisis_body]"
   ]
  },
  {
   "cell_type": "code",
   "execution_count": 92,
   "metadata": {},
   "outputs": [],
   "source": [
    "post_crisis_sentiments = analyze_in_batches(post_crisis_body, batch_size=batch_size)"
   ]
  },
  {
   "cell_type": "code",
   "execution_count": 93,
   "metadata": {},
   "outputs": [],
   "source": [
    "post_crisis_sentiments_df = pd.DataFrame(post_crisis_sentiments)"
   ]
  },
  {
   "cell_type": "code",
   "execution_count": 94,
   "metadata": {},
   "outputs": [],
   "source": [
    "# Convert to CSV\n",
    "post_crisis_sentiments_df.to_csv('post_crisis_sentiments.csv', index=False)"
   ]
  },
  {
   "cell_type": "code",
   "execution_count": 103,
   "metadata": {},
   "outputs": [],
   "source": [
    "def count_sentiments(sentiment_df):\n",
    "    sentiment_counts = sentiment_df['label'].value_counts()\n",
    "    return sentiment_counts"
   ]
  },
  {
   "cell_type": "code",
   "execution_count": 97,
   "metadata": {},
   "outputs": [],
   "source": [
    "pre_crisis_counts = count_sentiments(pre_crisis_sentiments_df)\n",
    "during_crisis_counts = count_sentiments(during_crisis_sentiments_df)\n",
    "post_crisis_counts = count_sentiments(post_crisis_sentiments_df)  "
   ]
  },
  {
   "cell_type": "code",
   "execution_count": 108,
   "metadata": {},
   "outputs": [],
   "source": [
    "sentiment_summary = pd.DataFrame({\n",
    "    'Pre-Crisis': pre_crisis_counts,\n",
    "    'During-Crisis' : during_crisis_counts,\n",
    "    'Post-Crisis' : post_crisis_counts\n",
    "})"
   ]
  },
  {
   "cell_type": "code",
   "execution_count": 109,
   "metadata": {},
   "outputs": [
    {
     "name": "stdout",
     "output_type": "stream",
     "text": [
      "          Pre-Crisis  During-Crisis  Post-Crisis\n",
      "label                                           \n",
      "neutral        13943          31367         9515\n",
      "positive        2158           5609         1107\n",
      "negative         476           1012          365\n"
     ]
    }
   ],
   "source": [
    "print(sentiment_summary)"
   ]
  },
  {
   "cell_type": "code",
   "execution_count": 115,
   "metadata": {},
   "outputs": [
    {
     "data": {
      "image/png": "[encoded data removed]",
      "text/plain": [
       "<Figure size 1000x600 with 1 Axes>"
      ]
     },
     "metadata": {},
     "output_type": "display_data"
    }
   ],
   "source": [
    "# Transpose the dataframe to have timeframes on the x-axis\n",
    "sentiment_summary_T = sentiment_summary.T\n",
    "\n",
    "# Create a line plot to show sentiment changes across timeframes\n",
    "sentiment_summary_T.plot(kind='line', marker='o', figsize=(10, 6))\n",
    "\n",
    "# Add labels and title\n",
    "plt.title('Sentiment Changes Over Time')\n",
    "plt.xlabel('Timeframe')\n",
    "plt.ylabel('Number of Emails')\n",
    "plt.savefig('sentiment_analysis_line_chart.png', dpi = 300)\n",
    "plt.show()"
   ]
  },
  {
   "cell_type": "code",
   "execution_count": null,
   "metadata": {},
   "outputs": [],
   "source": []
  }
 ],
 "metadata": {
  "kernelspec": {
   "display_name": "IND5003",
   "language": "python",
   "name": "python3"
  },
  "language_info": {
   "codemirror_mode": {
    "name": "ipython",
    "version": 3
   },
   "file_extension": ".py",
   "mimetype": "text/x-python",
   "name": "python",
   "nbconvert_exporter": "python",
   "pygments_lexer": "ipython3",
   "version": "3.11.5"
  }
 },
 "nbformat": 4,
 "nbformat_minor": 2
}
